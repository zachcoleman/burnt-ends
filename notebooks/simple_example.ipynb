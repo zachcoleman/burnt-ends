{
 "cells": [
  {
   "cell_type": "markdown",
   "metadata": {},
   "source": [
    "# Simple Example\n",
    "\n",
    "A simple end-to-end example. "
   ]
  },
  {
   "cell_type": "code",
   "execution_count": 1,
   "metadata": {},
   "outputs": [],
   "source": [
    "import torch\n",
    "import numpy as np\n",
    "import matplotlib.pyplot as plt"
   ]
  },
  {
   "cell_type": "code",
   "execution_count": 2,
   "metadata": {},
   "outputs": [],
   "source": [
    "DEVICE = \"cuda\""
   ]
  },
  {
   "cell_type": "markdown",
   "metadata": {},
   "source": [
    "## Dataset Definition\n",
    "Generates piece-wise linear data."
   ]
  },
  {
   "cell_type": "code",
   "execution_count": 3,
   "metadata": {},
   "outputs": [],
   "source": [
    "class MyDataset(torch.utils.data.IterableDataset):\n",
    "    def __iter__(self):\n",
    "        return self\n",
    "    def __next__(self):\n",
    "        X_orig = np.random.randint(0, 100) % 100\n",
    "        X = (X_orig - 50.0) / (100/np.sqrt(12))\n",
    "        if X_orig < 50:\n",
    "            y = X * np.random.randint(1, 3) + np.random.uniform(0, 2)\n",
    "        else:\n",
    "            y = np.random.uniform(0, 2)\n",
    "        return np.array([X], dtype=np.float32), np.array([y], dtype=np.float32)"
   ]
  },
  {
   "cell_type": "markdown",
   "metadata": {},
   "source": [
    "## Module Definition"
   ]
  },
  {
   "cell_type": "code",
   "execution_count": 4,
   "metadata": {},
   "outputs": [],
   "source": [
    "class TwoLayerModel(torch.nn.Module):\n",
    "    def  __init__(self, D_IN, D_OUT, H):\n",
    "        super(TwoLayerModel, self).__init__()\n",
    "        self._l1 = torch.nn.Linear(D_IN, H)\n",
    "        self._l2 = torch.nn.Linear(H, H)\n",
    "        self._l3 = torch.nn.Linear(H, D_OUT)\n",
    "\n",
    "    def forward(self, x):\n",
    "        x = torch.nn.functional.relu(self._l1(x))\n",
    "        x = torch.nn.functional.relu(self._l2(x))\n",
    "        x = self._l3(x)\n",
    "        return x"
   ]
  },
  {
   "cell_type": "markdown",
   "metadata": {},
   "source": [
    "## Build Dataset and Model"
   ]
  },
  {
   "cell_type": "code",
   "execution_count": 5,
   "metadata": {},
   "outputs": [],
   "source": [
    "train_dataset = MyDataset()\n",
    "train_dataloader = torch.utils.data.DataLoader(\n",
    "    train_dataset,\n",
    "    batch_size = 8,\n",
    ")\n",
    "iter_train_dataloader = iter(train_dataloader)\n",
    "\n",
    "model = TwoLayerModel(\n",
    "    D_IN = 1,\n",
    "    D_OUT = 1,\n",
    "    H = 4,\n",
    ")"
   ]
  },
  {
   "cell_type": "markdown",
   "metadata": {},
   "source": [
    "## Train Setup"
   ]
  },
  {
   "cell_type": "code",
   "execution_count": 6,
   "metadata": {},
   "outputs": [],
   "source": [
    "loss_fn = torch.nn.MSELoss(reduction=\"mean\")\n",
    "optim = torch.optim.Adam(model.parameters())"
   ]
  },
  {
   "cell_type": "markdown",
   "metadata": {},
   "source": [
    "## Training Loop"
   ]
  },
  {
   "cell_type": "code",
   "execution_count": 7,
   "metadata": {},
   "outputs": [
    {
     "name": "stdout",
     "output_type": "stream",
     "text": [
      "loss @ 1000th step: 0.23564141988754272\n",
      "loss @ 2000th step: 0.32220137119293213\n",
      "loss @ 3000th step: 0.351920485496521\n",
      "loss @ 4000th step: 0.35932594537734985\n",
      "loss @ 5000th step: 0.2930242419242859\n",
      "loss @ 6000th step: 0.8109627962112427\n",
      "loss @ 7000th step: 0.3393949270248413\n",
      "loss @ 8000th step: 0.34584951400756836\n",
      "loss @ 9000th step: 0.42169442772865295\n",
      "loss @ 10000th step: 0.287737101316452\n"
     ]
    }
   ],
   "source": [
    "model.to(DEVICE)\n",
    "for i in range(10_000):\n",
    "    optim.zero_grad()\n",
    "    X, y = next(iter_train_dataloader)\n",
    "    X, y = X.to(DEVICE), y.to(DEVICE)\n",
    "    output = model(X)\n",
    "    loss = loss_fn(output, y)\n",
    "    if (i+1) % 1_000 == 0:\n",
    "        print(f\"loss @ {i+1}th step: {loss}\")\n",
    "    loss.backward()\n",
    "    optim.step()"
   ]
  },
  {
   "cell_type": "markdown",
   "metadata": {},
   "source": [
    "## Test Results"
   ]
  },
  {
   "cell_type": "code",
   "execution_count": 8,
   "metadata": {},
   "outputs": [
    {
     "data": {
      "image/png": "[encoded data removed]",
      "text/plain": [
       "<Figure size 640x480 with 1 Axes>"
      ]
     },
     "metadata": {},
     "output_type": "display_data"
    }
   ],
   "source": [
    "model.to(\"cpu\")\n",
    "\n",
    "X, y, y_pred = [], [], []\n",
    "iter_dataset = iter(train_dataset)\n",
    "for _ in range(100):\n",
    "    _X, _y = next(iter_dataset)\n",
    "    X.append(_X)\n",
    "    y.append(_y)\n",
    "    with torch.no_grad():\n",
    "        y_pred.append(model(torch.Tensor(_X)))\n",
    "\n",
    "# sort results for visualizing\n",
    "X, y, y_pred = zip(*sorted(zip(X, y, y_pred)))\n",
    "\n",
    "# plot!\n",
    "fig, ax = plt.subplots(1, 1)\n",
    "ax.set_title(\"Predicted vs Actual\")\n",
    "ax.set_xlabel(\"X\")\n",
    "ax.set_ylabel(\"y\")\n",
    "ax.scatter(np.stack(X), np.stack(y), color=\"tab:blue\")\n",
    "ax.plot(np.stack(X), np.stack(y_pred), linewidth=3, color=\"tab:orange\")\n",
    "plt.show()"
   ]
  }
 ],
 "metadata": {
  "kernelspec": {
   "display_name": "Python 3.10.4 ('.venv': venv)",
   "language": "python",
   "name": "python3"
  },
  "language_info": {
   "codemirror_mode": {
    "name": "ipython",
    "version": 3
   },
   "file_extension": ".py",
   "mimetype": "text/x-python",
   "name": "python",
   "nbconvert_exporter": "python",
   "pygments_lexer": "ipython3",
   "version": "3.10.4"
  },
  "orig_nbformat": 4,
  "vscode": {
   "interpreter": {
    "hash": "c248e6104bd959e5724d79211e531f4a227ee51afecf81cca8a8f9654ab16a32"
   }
  }
 },
 "nbformat": 4,
 "nbformat_minor": 2
}
