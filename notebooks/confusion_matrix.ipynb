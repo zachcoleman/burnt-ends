{
 "cells": [
  {
   "cell_type": "markdown",
   "metadata": {},
   "source": [
    "# Confusion Matrix\n",
    "\n",
    "Implements a confusion matrix calculation in PyTorch tests the sklearn, pytorch-cpu, and pytorch-gpu performance on a simple synthetic example. \n",
    "\n",
    "Reference links: \n",
    "- https://en.wikipedia.org/wiki/Confusion_matrix"
   ]
  },
  {
   "cell_type": "code",
   "execution_count": 1,
   "metadata": {},
   "outputs": [],
   "source": [
    "import torch\n",
    "import numpy as np\n",
    "import pandas as pd\n",
    "from sklearn.metrics import confusion_matrix"
   ]
  },
  {
   "cell_type": "code",
   "execution_count": 2,
   "metadata": {},
   "outputs": [],
   "source": [
    "DEVICE = \"cuda\""
   ]
  },
  {
   "cell_type": "markdown",
   "metadata": {},
   "source": [
    "## Module Definition"
   ]
  },
  {
   "cell_type": "code",
   "execution_count": 3,
   "metadata": {},
   "outputs": [],
   "source": [
    "class ConfusionMatrix(torch.nn.Module):\n",
    "    \"\"\"Module for calculating confusion matrix w/ PyTorch\"\"\"\n",
    "    def __init__(self):\n",
    "        super().__init__()\n",
    "\n",
    "    def calculate_single_channel(self, y_true, y_pred):\n",
    "        y_true_idx, y_pred_idx = torch.meshgrid(\n",
    "            y_true.unique(sorted=True), \n",
    "            y_pred.unique(sorted=True), \n",
    "            indexing=\"ij\"\n",
    "        )\n",
    "        conf_mat = torch.zeros_like(y_true_idx)\n",
    "        for i in range(y_true_idx.shape[0]):\n",
    "            for j in range(y_true_idx.shape[1]):\n",
    "                conf_mat[i, j] = torch.sum(\n",
    "                    torch.logical_and(y_true == y_true_idx[i, j], y_pred == y_pred_idx[i, j])\n",
    "                )\n",
    "        return conf_mat\n",
    "\n",
    "    def forward(self, y_true, y_pred, stack: bool = True):\n",
    "        \"\"\"Caclulate the confusion matrix\n",
    "\n",
    "        Args:\n",
    "            y_true: true value tensor\n",
    "            y_pred: predicted value tensor\n",
    "            stack: bool for if module will try to stack the channel-wise results\n",
    "                or return list\n",
    "        Return:\n",
    "            channel-wise confusion matrix results\n",
    "        \"\"\"\n",
    "        if y_true.dim() > 2:\n",
    "            if stack:\n",
    "                return torch.stack([\n",
    "                    self.calculate_single_channel(t, p) for t, p in zip(y_true, y_pred) \n",
    "                ])\n",
    "            else:\n",
    "                return [\n",
    "                    self.calculate_single_channel(t, p) for t, p in zip(y_true, y_pred) \n",
    "                ]\n",
    "        else:\n",
    "            return self.calculate_single_channel(y_true, y_pred)"
   ]
  },
  {
   "cell_type": "code",
   "execution_count": 4,
   "metadata": {},
   "outputs": [],
   "source": [
    "# multiple binary masks\n",
    "n_classes = 4\n",
    "y_true = torch.randint(0, 2, (n_classes, 512, 512))\n",
    "y_pred = torch.randint(0, 2, (n_classes, 512, 512))\n",
    "\n",
    "# single multi-class mask\n",
    "n_classes = 4\n",
    "y_true = torch.randint(0, n_classes, (512, 512))\n",
    "y_pred = torch.randint(0, n_classes, (512, 512))\n",
    "\n",
    "y_true_np = y_true.numpy()\n",
    "y_pred_np = y_pred.numpy()"
   ]
  },
  {
   "cell_type": "markdown",
   "metadata": {},
   "source": [
    "### Time sklearn"
   ]
  },
  {
   "cell_type": "code",
   "execution_count": 5,
   "metadata": {},
   "outputs": [
    {
     "name": "stdout",
     "output_type": "stream",
     "text": [
      "97.4 ms ± 340 µs per loop (mean ± std. dev. of 7 runs, 10 loops each)\n"
     ]
    }
   ],
   "source": [
    "%%timeit\n",
    "_ = np.stack([\n",
    "    confusion_matrix(yt.flatten(), yp.flatten()) for yt, yp in zip(y_true_np, y_pred_np)\n",
    "])"
   ]
  },
  {
   "cell_type": "code",
   "execution_count": 6,
   "metadata": {},
   "outputs": [],
   "source": [
    "cm = ConfusionMatrix()"
   ]
  },
  {
   "cell_type": "markdown",
   "metadata": {},
   "source": [
    "### Time torch cpu"
   ]
  },
  {
   "cell_type": "code",
   "execution_count": 7,
   "metadata": {},
   "outputs": [
    {
     "name": "stdout",
     "output_type": "stream",
     "text": [
      "4.24 ms ± 5.09 µs per loop (mean ± std. dev. of 7 runs, 100 loops each)\n"
     ]
    }
   ],
   "source": [
    "%%timeit\n",
    "_ = cm(y_true, y_pred)"
   ]
  },
  {
   "cell_type": "markdown",
   "metadata": {},
   "source": [
    "### Time torch gpu"
   ]
  },
  {
   "cell_type": "code",
   "execution_count": 8,
   "metadata": {},
   "outputs": [],
   "source": [
    "y_true = y_true.to(DEVICE)\n",
    "y_pred = y_pred.to(DEVICE)"
   ]
  },
  {
   "cell_type": "code",
   "execution_count": 9,
   "metadata": {},
   "outputs": [
    {
     "name": "stdout",
     "output_type": "stream",
     "text": [
      "5.08 ms ± 506 µs per loop (mean ± std. dev. of 7 runs, 100 loops each)\n"
     ]
    }
   ],
   "source": [
    "%%timeit\n",
    "_ = cm(y_true, y_pred)"
   ]
  },
  {
   "cell_type": "markdown",
   "metadata": {},
   "source": [
    "## Testing Accuracy"
   ]
  },
  {
   "cell_type": "code",
   "execution_count": 10,
   "metadata": {},
   "outputs": [
    {
     "data": {
      "text/html": [
       "<div>\n",
       "<style scoped>\n",
       "    .dataframe tbody tr th:only-of-type {\n",
       "        vertical-align: middle;\n",
       "    }\n",
       "\n",
       "    .dataframe tbody tr th {\n",
       "        vertical-align: top;\n",
       "    }\n",
       "\n",
       "    .dataframe thead tr th {\n",
       "        text-align: left;\n",
       "    }\n",
       "</style>\n",
       "<table border=\"1\" class=\"dataframe\">\n",
       "  <thead>\n",
       "    <tr>\n",
       "      <th></th>\n",
       "      <th></th>\n",
       "      <th colspan=\"4\" halign=\"left\">predicted</th>\n",
       "    </tr>\n",
       "    <tr>\n",
       "      <th></th>\n",
       "      <th></th>\n",
       "      <th>0</th>\n",
       "      <th>1</th>\n",
       "      <th>2</th>\n",
       "      <th>3</th>\n",
       "    </tr>\n",
       "  </thead>\n",
       "  <tbody>\n",
       "    <tr>\n",
       "      <th rowspan=\"4\" valign=\"top\">actual</th>\n",
       "      <th>0</th>\n",
       "      <td>16529</td>\n",
       "      <td>16457</td>\n",
       "      <td>16277</td>\n",
       "      <td>16739</td>\n",
       "    </tr>\n",
       "    <tr>\n",
       "      <th>1</th>\n",
       "      <td>16324</td>\n",
       "      <td>16259</td>\n",
       "      <td>16341</td>\n",
       "      <td>16414</td>\n",
       "    </tr>\n",
       "    <tr>\n",
       "      <th>2</th>\n",
       "      <td>16024</td>\n",
       "      <td>16546</td>\n",
       "      <td>16396</td>\n",
       "      <td>16357</td>\n",
       "    </tr>\n",
       "    <tr>\n",
       "      <th>3</th>\n",
       "      <td>16358</td>\n",
       "      <td>16170</td>\n",
       "      <td>16573</td>\n",
       "      <td>16380</td>\n",
       "    </tr>\n",
       "  </tbody>\n",
       "</table>\n",
       "</div>"
      ],
      "text/plain": [
       "         predicted                     \n",
       "                 0      1      2      3\n",
       "actual 0     16529  16457  16277  16739\n",
       "       1     16324  16259  16341  16414\n",
       "       2     16024  16546  16396  16357\n",
       "       3     16358  16170  16573  16380"
      ]
     },
     "execution_count": 10,
     "metadata": {},
     "output_type": "execute_result"
    }
   ],
   "source": [
    "# example confusion matrix\n",
    "conf_mat = pd.DataFrame(cm(y_true, y_pred).cpu().numpy())\n",
    "conf_mat.columns = pd.MultiIndex.from_product([[\"predicted\"], conf_mat.columns])\n",
    "conf_mat.index = pd.MultiIndex.from_product([[\"actual\"], conf_mat.index])\n",
    "conf_mat"
   ]
  },
  {
   "cell_type": "code",
   "execution_count": 11,
   "metadata": {},
   "outputs": [
    {
     "name": "stdout",
     "output_type": "stream",
     "text": [
      "True\n"
     ]
    }
   ],
   "source": [
    "# check the accuracy of ConfusionMatrix module vs sklearn\n",
    "if y_true_np.ndim == 2:\n",
    "    print(np.allclose(\n",
    "        confusion_matrix(y_true_np.flatten(), y_pred_np.flatten()),\n",
    "        cm(y_true, y_pred).cpu().numpy()\n",
    "    ))\n",
    "else:\n",
    "    print(np.allclose(\n",
    "        np.stack([confusion_matrix(yt.flatten(), yp.flatten()) for yt, yp in zip(y_true_np, y_pred_np)]),\n",
    "        cm(y_true, y_pred).cpu().numpy()\n",
    "    ))"
   ]
  }
 ],
 "metadata": {
  "kernelspec": {
   "display_name": "Python 3.10.4 ('.venv': venv)",
   "language": "python",
   "name": "python3"
  },
  "language_info": {
   "codemirror_mode": {
    "name": "ipython",
    "version": 3
   },
   "file_extension": ".py",
   "mimetype": "text/x-python",
   "name": "python",
   "nbconvert_exporter": "python",
   "pygments_lexer": "ipython3",
   "version": "3.10.4"
  },
  "orig_nbformat": 4,
  "vscode": {
   "interpreter": {
    "hash": "c248e6104bd959e5724d79211e531f4a227ee51afecf81cca8a8f9654ab16a32"
   }
  }
 },
 "nbformat": 4,
 "nbformat_minor": 2
}
