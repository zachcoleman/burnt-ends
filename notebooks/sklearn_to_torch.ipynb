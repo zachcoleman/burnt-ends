{
 "cells": [
  {
   "cell_type": "markdown",
   "metadata": {},
   "source": [
    "# `sklearn` to `torch`\n",
    "\n",
    "Inference implementations of Logistic Regression and Isotonic Regression in PyTorch defined from the sklearn objects\n",
    "\n",
    "Reference Links:\n",
    "- https://scikit-learn.org/stable/modules/linear_model.html#logistic-regression\n",
    "- https://scikit-learn.org/stable/modules/isotonic.html#isotonic"
   ]
  },
  {
   "cell_type": "code",
   "execution_count": null,
   "metadata": {},
   "outputs": [],
   "source": [
    "import torch\n",
    "import numpy as np\n",
    "import matplotlib.pyplot as plt\n",
    "from sklearn.isotonic import IsotonicRegression\n",
    "from sklearn.linear_model import LogisticRegression"
   ]
  },
  {
   "cell_type": "code",
   "execution_count": null,
   "metadata": {},
   "outputs": [],
   "source": [
    "DEVICE = \"mps\""
   ]
  },
  {
   "cell_type": "markdown",
   "metadata": {},
   "source": [
    "## Data Generation"
   ]
  },
  {
   "cell_type": "code",
   "execution_count": null,
   "metadata": {},
   "outputs": [],
   "source": [
    "rand_feature_map = torch.normal(0, 1, (10, 512, 512))  # start w/ an image\n",
    "X = rand_feature_map.numpy().reshape(-1)\n",
    "\n",
    "# deterministically define y and add noise to X\n",
    "y = X >= 0\n",
    "X = np.clip(X + np.random.normal(0, 1, X.shape), 0, 1)\n",
    "\n",
    "# take a subsample\n",
    "X = X[:10_000]\n",
    "y = y[:10_000]"
   ]
  },
  {
   "cell_type": "markdown",
   "metadata": {},
   "source": [
    "## Define and Fit Models"
   ]
  },
  {
   "cell_type": "code",
   "execution_count": null,
   "metadata": {},
   "outputs": [],
   "source": [
    "lr = LogisticRegression()\n",
    "_ = lr.fit(X.reshape(-1, 1), y)\n",
    "\n",
    "ir = IsotonicRegression(out_of_bounds=\"clip\")\n",
    "_ = ir.fit(X, y)"
   ]
  },
  {
   "cell_type": "markdown",
   "metadata": {},
   "source": [
    "## Module Definition"
   ]
  },
  {
   "cell_type": "code",
   "execution_count": null,
   "metadata": {},
   "outputs": [],
   "source": [
    "class TorchLogisticRegression(torch.nn.Module):\n",
    "    def __init__(self, lr: LogisticRegression):\n",
    "        super().__init__()\n",
    "        self._coef = torch.nn.Parameter(torch.from_numpy(lr.coef_))\n",
    "        self._intercept = torch.nn.Parameter(torch.from_numpy(lr.intercept_))\n",
    "    def forward(self, probs):\n",
    "        return torch.sigmoid(probs*self._coef + self._intercept)"
   ]
  },
  {
   "cell_type": "code",
   "execution_count": null,
   "metadata": {},
   "outputs": [],
   "source": [
    "class TorchIsotonicRegression(torch.nn.Module):\n",
    "    def __init__(self, ir: IsotonicRegression):\n",
    "        super().__init__()\n",
    "        self.x_vals = torch.nn.Parameter(torch.from_numpy(ir.f_.x), requires_grad=False)\n",
    "        self.y_vals = torch.nn.Parameter(torch.from_numpy(ir.f_.y), requires_grad=False)\n",
    "        self.slopes = torch.nn.Parameter(\n",
    "            torch.from_numpy(\n",
    "                np.concatenate([\n",
    "                    (ir.f_.y[1:] - ir.f_.y[:-1]) / (ir.f_.x[1:] - ir.f_.x[:-1]),\n",
    "                    np.array([0.]),\n",
    "                ])\n",
    "        ))\n",
    "    def forward(self, inputs):\n",
    "        \"\"\"Calculates appropriate segment for every value\n",
    "        and the linear interpolation w/ formula below\n",
    "        \n",
    "        Note: \n",
    "            linear definition: y = y1 + (x - x1)*slope\n",
    "            => slope[n] is for xs in interval x[n] - x[n+1]\n",
    "            => y = y[n] + (x - x[n])*slopes[n]\n",
    "\n",
    "        \"\"\"\n",
    "        masks = []\n",
    "        for x_val in self.x_vals:\n",
    "            masks.append(torch.where(inputs >= x_val, x_val, 0.))\n",
    "        _, ind = torch.max(torch.stack(masks, dim=0), dim=0)\n",
    "        y = self.y_vals[ind] + (inputs - self.x_vals[ind]) * self.slopes[ind]\n",
    "        y = torch.clamp(y, self.y_vals.min(), self.y_vals.max())\n",
    "        return y"
   ]
  },
  {
   "cell_type": "markdown",
   "metadata": {},
   "source": [
    "### LogisticRegression"
   ]
  },
  {
   "cell_type": "code",
   "execution_count": null,
   "metadata": {},
   "outputs": [],
   "source": [
    "torchLR = TorchLogisticRegression(lr)\n",
    "xs = rand_feature_map.numpy()\n",
    "xs = xs.reshape(-1, 1)"
   ]
  },
  {
   "cell_type": "code",
   "execution_count": null,
   "metadata": {},
   "outputs": [
    {
     "name": "stdout",
     "output_type": "stream",
     "text": [
      "45.4 ms ± 394 µs per loop (mean ± std. dev. of 7 runs, 10 loops each)\n"
     ]
    }
   ],
   "source": [
    "%%timeit\n",
    "res = lr.predict_proba(xs)[:, 1]\n",
    "res = res.reshape(rand_feature_map.shape)"
   ]
  },
  {
   "cell_type": "code",
   "execution_count": null,
   "metadata": {},
   "outputs": [
    {
     "name": "stdout",
     "output_type": "stream",
     "text": [
      "8.92 ms ± 298 µs per loop (mean ± std. dev. of 7 runs, 100 loops each)\n"
     ]
    }
   ],
   "source": [
    "%%timeit\n",
    "with torch.inference_mode():\n",
    "    res = torchLR.forward(rand_feature_map)\n",
    "    _ = res.numpy()"
   ]
  },
  {
   "cell_type": "code",
   "execution_count": null,
   "metadata": {},
   "outputs": [],
   "source": [
    "torchLR.to(DEVICE)\n",
    "rand_feature_map = rand_feature_map.to(DEVICE)"
   ]
  },
  {
   "cell_type": "code",
   "execution_count": null,
   "metadata": {},
   "outputs": [
    {
     "name": "stdout",
     "output_type": "stream",
     "text": [
      "4.15 ms ± 8.49 µs per loop (mean ± std. dev. of 7 runs, 100 loops each)\n"
     ]
    }
   ],
   "source": [
    "%%timeit\n",
    "with torch.inference_mode():\n",
    "    res = torchLR.forward(rand_feature_map)\n",
    "    _ = res.cpu().numpy()"
   ]
  },
  {
   "cell_type": "markdown",
   "metadata": {},
   "source": [
    "### Test Results"
   ]
  },
  {
   "cell_type": "code",
   "execution_count": null,
   "metadata": {},
   "outputs": [],
   "source": [
    "torchLR.to(\"cpu\")\n",
    "rand_feature_map = rand_feature_map.to(\"cpu\")\n",
    "with torch.no_grad():\n",
    "    torch_res = torchLR.forward(rand_feature_map)\n",
    "    torch_res = torch_res.numpy()\n",
    "\n",
    "xs = rand_feature_map.numpy()\n",
    "xs = xs.reshape(-1, 1)\n",
    "sklearn_res = lr.predict_proba(xs)[:, 1]\n",
    "sklearn_res = sklearn_res.reshape(rand_feature_map.shape)\n",
    "\n",
    "np.allclose(torch_res, sklearn_res)"
   ]
  },
  {
   "cell_type": "markdown",
   "metadata": {},
   "source": [
    "### IsotonicRegression Test"
   ]
  },
  {
   "cell_type": "code",
   "execution_count": null,
   "metadata": {},
   "outputs": [],
   "source": [
    "torchIR = TorchIsotonicRegression(ir)\n",
    "xs = rand_feature_map.numpy()\n",
    "xs = xs.reshape(-1)"
   ]
  },
  {
   "cell_type": "code",
   "execution_count": null,
   "metadata": {},
   "outputs": [
    {
     "name": "stdout",
     "output_type": "stream",
     "text": [
      "59.7 ms ± 167 µs per loop (mean ± std. dev. of 7 runs, 10 loops each)\n"
     ]
    }
   ],
   "source": [
    "%%timeit\n",
    "res = ir.predict(xs)\n",
    "res = res.reshape(rand_feature_map.shape)"
   ]
  },
  {
   "cell_type": "code",
   "execution_count": null,
   "metadata": {},
   "outputs": [
    {
     "name": "stdout",
     "output_type": "stream",
     "text": [
      "266 ms ± 29.9 ms per loop (mean ± std. dev. of 7 runs, 1 loop each)\n"
     ]
    }
   ],
   "source": [
    "%%timeit\n",
    "with torch.inference_mode():\n",
    "    res = torchIR.forward(rand_feature_map)\n",
    "    _ = res.numpy()"
   ]
  },
  {
   "cell_type": "code",
   "execution_count": null,
   "metadata": {},
   "outputs": [],
   "source": [
    "torchIR.to(DEVICE)\n",
    "rand_feature_map = rand_feature_map.to(DEVICE)"
   ]
  },
  {
   "cell_type": "code",
   "execution_count": null,
   "metadata": {},
   "outputs": [
    {
     "name": "stdout",
     "output_type": "stream",
     "text": [
      "16.6 ms ± 22.3 µs per loop (mean ± std. dev. of 7 runs, 100 loops each)\n"
     ]
    }
   ],
   "source": [
    "%%timeit\n",
    "with torch.inference_mode():\n",
    "    res = torchIR.forward(rand_feature_map)\n",
    "    _ = res.cpu().numpy()"
   ]
  },
  {
   "cell_type": "markdown",
   "metadata": {},
   "source": [
    "#### Test Results"
   ]
  },
  {
   "cell_type": "code",
   "execution_count": null,
   "metadata": {},
   "outputs": [],
   "source": [
    "torchIR.to(\"cpu\")\n",
    "rand_feature_map = rand_feature_map.to(\"cpu\")\n",
    "with torch.inference_mode():\n",
    "    torch_res = torchIR.forward(rand_feature_map)\n",
    "    torch_res = torch_res.numpy()\n",
    "\n",
    "xs = rand_feature_map.numpy()\n",
    "xs = xs.reshape(-1)\n",
    "sklearn_res = ir.predict(xs)\n",
    "sklearn_res = sklearn_res.reshape(rand_feature_map.shape)\n",
    "\n",
    "np.allclose(torch_res, sklearn_res)"
   ]
  }
 ],
 "metadata": {
  "kernelspec": {
   "display_name": "Python 3.10.3 ('.venv-torch-metal': venv)",
   "language": "python",
   "name": "python3"
  },
  "language_info": {
   "codemirror_mode": {
    "name": "ipython",
    "version": 3
   },
   "file_extension": ".py",
   "mimetype": "text/x-python",
   "name": "python",
   "nbconvert_exporter": "python",
   "pygments_lexer": "ipython3",
   "version": "3.10.3"
  },
  "orig_nbformat": 4,
  "vscode": {
   "interpreter": {
    "hash": "a866963bc3cb7c7934c5ba68167a0b5deb814b0dc0feac21d008e455a3e431d9"
   }
  }
 },
 "nbformat": 4,
 "nbformat_minor": 2
}
