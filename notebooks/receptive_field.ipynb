{
 "cells": [
  {
   "cell_type": "code",
   "execution_count": 11,
   "metadata": {},
   "outputs": [],
   "source": [
    "import math\n",
    "import torch"
   ]
  },
  {
   "cell_type": "code",
   "execution_count": 15,
   "metadata": {},
   "outputs": [],
   "source": [
    "class SimpleConv(torch.nn.Module):\n",
    "    def __init__(self, c):\n",
    "        super().__init__()\n",
    "        layers = [\n",
    "            torch.nn.Conv2d(c, c, 3, 2, 1),\n",
    "            torch.nn.Conv2d(c, c, 3, 2, 1),\n",
    "            torch.nn.Conv2d(c, c, 3, 2, 1),\n",
    "        ]\n",
    "        self.layers = torch.nn.ModuleList(layers)\n",
    "    \n",
    "    def forward(self, inputs):\n",
    "        x = inputs\n",
    "        for l in self.layers:\n",
    "            x = l(x)\n",
    "        return x"
   ]
  },
  {
   "cell_type": "code",
   "execution_count": 16,
   "metadata": {},
   "outputs": [],
   "source": [
    "def calc_out_size(in_size, k, p, s):\n",
    "    if isinstance(in_size, tuple):\n",
    "        return tuple([math.floor((i+2*p-k)/s)+1 for i in in_size])\n",
    "    elif isinstance(in_size, int):\n",
    "        return math.floor((in_size+2*p-k)/s)+1\n",
    "    else:\n",
    "        raise TypeError(f\"in_size unsupported type of {type(in_size)}\")"
   ]
  },
  {
   "cell_type": "code",
   "execution_count": 19,
   "metadata": {},
   "outputs": [
    {
     "data": {
      "text/plain": [
       "64"
      ]
     },
     "execution_count": 19,
     "metadata": {},
     "output_type": "execute_result"
    }
   ],
   "source": [
    "x = 512\n",
    "x = calc_out_size(x, 3, 1, 2)\n",
    "x = calc_out_size(x, 3, 1, 2)\n",
    "x = calc_out_size(x, 3, 1, 2)\n",
    "x"
   ]
  },
  {
   "cell_type": "code",
   "execution_count": 21,
   "metadata": {},
   "outputs": [],
   "source": [
    "model = SimpleConv(1)"
   ]
  },
  {
   "cell_type": "code",
   "execution_count": 48,
   "metadata": {},
   "outputs": [
    {
     "data": {
      "text/plain": [
       "torch.nn.modules.container.ModuleList"
      ]
     },
     "execution_count": 48,
     "metadata": {},
     "output_type": "execute_result"
    }
   ],
   "source": [
    "model._modules[\"layers\"]"
   ]
  },
  {
   "cell_type": "code",
   "execution_count": 45,
   "metadata": {},
   "outputs": [
    {
     "data": {
      "text/plain": [
       "{'training': True,\n",
       " '_parameters': OrderedDict([('weight', Parameter containing:\n",
       "               tensor([[[[ 0.1051,  0.2534,  0.0926],\n",
       "                         [ 0.1903, -0.0175,  0.1622],\n",
       "                         [ 0.0532,  0.2080, -0.1343]]]], requires_grad=True)),\n",
       "              ('bias',\n",
       "               Parameter containing:\n",
       "               tensor([-0.1181], requires_grad=True))]),\n",
       " '_buffers': OrderedDict(),\n",
       " '_non_persistent_buffers_set': set(),\n",
       " '_backward_hooks': OrderedDict(),\n",
       " '_is_full_backward_hook': None,\n",
       " '_forward_hooks': OrderedDict(),\n",
       " '_forward_pre_hooks': OrderedDict(),\n",
       " '_state_dict_hooks': OrderedDict(),\n",
       " '_load_state_dict_pre_hooks': OrderedDict(),\n",
       " '_modules': OrderedDict(),\n",
       " 'in_channels': 1,\n",
       " 'out_channels': 1,\n",
       " 'kernel_size': (3, 3),\n",
       " 'stride': (2, 2),\n",
       " 'padding': (1, 1),\n",
       " 'dilation': (1, 1),\n",
       " 'transposed': False,\n",
       " 'output_padding': (0, 0),\n",
       " 'groups': 1,\n",
       " 'padding_mode': 'zeros',\n",
       " '_reversed_padding_repeated_twice': (1, 1, 1, 1)}"
      ]
     },
     "execution_count": 45,
     "metadata": {},
     "output_type": "execute_result"
    }
   ],
   "source": [
    "next(next(next(model.modules()).children()).children()).__dict__"
   ]
  }
 ],
 "metadata": {
  "interpreter": {
   "hash": "610d70144db798de2d4bb5dcee849625d95221a0a4889cdbe27ccad9556d3744"
  },
  "kernelspec": {
   "display_name": "Python 3.9.7 ('.venv': venv)",
   "language": "python",
   "name": "python3"
  },
  "language_info": {
   "codemirror_mode": {
    "name": "ipython",
    "version": 3
   },
   "file_extension": ".py",
   "mimetype": "text/x-python",
   "name": "python",
   "nbconvert_exporter": "python",
   "pygments_lexer": "ipython3",
   "version": "3.9.11"
  },
  "orig_nbformat": 4
 },
 "nbformat": 4,
 "nbformat_minor": 2
}
