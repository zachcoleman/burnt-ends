{
 "cells": [
  {
   "cell_type": "code",
   "execution_count": null,
   "metadata": {},
   "outputs": [],
   "source": [
    "import math\n",
    "import torch"
   ]
  },
  {
   "cell_type": "code",
   "execution_count": null,
   "metadata": {},
   "outputs": [],
   "source": [
    "class SimpleConv(torch.nn.Module):\n",
    "    def __init__(self, c):\n",
    "        super().__init__()\n",
    "        layers = [\n",
    "            torch.nn.Conv2d(c, c, 3, 2, 1),\n",
    "            torch.nn.Conv2d(c, c, 3, 2, 1),\n",
    "            torch.nn.Conv2d(c, c, 3, 2, 1),\n",
    "        ]\n",
    "        self.layers = torch.nn.ModuleList(layers)\n",
    "    \n",
    "    def forward(self, inputs):\n",
    "        x = inputs\n",
    "        for l in self.layers:\n",
    "            x = l(x)\n",
    "        return x"
   ]
  },
  {
   "cell_type": "code",
   "execution_count": null,
   "metadata": {},
   "outputs": [],
   "source": [
    "def calc_out_size(in_size, k, p, s):\n",
    "    if isinstance(in_size, tuple):\n",
    "        return tuple([math.floor((i+2*p-k)/s)+1 for i in in_size])\n",
    "    elif isinstance(in_size, int):\n",
    "        return math.floor((in_size+2*p-k)/s)+1\n",
    "    else:\n",
    "        raise TypeError(f\"in_size unsupported type of {type(in_size)}\")"
   ]
  },
  {
   "cell_type": "code",
   "execution_count": null,
   "metadata": {},
   "outputs": [],
   "source": [
    "x = 512\n",
    "x = calc_out_size(x, 3, 1, 2)\n",
    "x = calc_out_size(x, 3, 1, 2)\n",
    "x = calc_out_size(x, 3, 1, 2)\n",
    "x"
   ]
  },
  {
   "cell_type": "code",
   "execution_count": null,
   "metadata": {},
   "outputs": [],
   "source": [
    "model = SimpleConv(1)"
   ]
  },
  {
   "cell_type": "code",
   "execution_count": null,
   "metadata": {},
   "outputs": [],
   "source": [
    "model._modules[\"layers\"]"
   ]
  },
  {
   "cell_type": "code",
   "execution_count": null,
   "metadata": {},
   "outputs": [],
   "source": [
    "next(next(next(model.modules()).children()).children()).__dict__"
   ]
  }
 ],
 "metadata": {
  "kernelspec": {
   "display_name": "Python 3.10.3 ('.venv-torch-metal': venv)",
   "language": "python",
   "name": "python3"
  },
  "language_info": {
   "codemirror_mode": {
    "name": "ipython",
    "version": 3
   },
   "file_extension": ".py",
   "mimetype": "text/x-python",
   "name": "python",
   "nbconvert_exporter": "python",
   "pygments_lexer": "ipython3",
   "version": "3.10.3"
  },
  "orig_nbformat": 4,
  "vscode": {
   "interpreter": {
    "hash": "a866963bc3cb7c7934c5ba68167a0b5deb814b0dc0feac21d008e455a3e431d9"
   }
  }
 },
 "nbformat": 4,
 "nbformat_minor": 2
}
