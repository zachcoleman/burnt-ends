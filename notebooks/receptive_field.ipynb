{
 "cells": [
  {
   "cell_type": "code",
   "execution_count": 1,
   "metadata": {},
   "outputs": [],
   "source": [
    "import math\n",
    "import torch"
   ]
  },
  {
   "cell_type": "code",
   "execution_count": 2,
   "metadata": {},
   "outputs": [],
   "source": [
    "class SimpleConv(torch.nn.Module):\n",
    "    def __init__(self, c):\n",
    "        super().__init__()\n",
    "        layers = [\n",
    "            torch.nn.Conv2d(c, c, 3, 2, 1),\n",
    "            torch.nn.Conv2d(c, c, 3, 2, 1),\n",
    "            torch.nn.Conv2d(c, c, 3, 2, 1),\n",
    "        ]\n",
    "        self.layers = torch.nn.ModuleList(layers)\n",
    "    \n",
    "    def forward(self, inputs):\n",
    "        x = inputs\n",
    "        for l in self.layers:\n",
    "            x = l(x)\n",
    "        return x"
   ]
  },
  {
   "cell_type": "code",
   "execution_count": 3,
   "metadata": {},
   "outputs": [],
   "source": [
    "def calc_out_size(in_size, k, p, s):\n",
    "    if isinstance(in_size, tuple):\n",
    "        return tuple([math.floor((i+2*p-k)/s)+1 for i in in_size])\n",
    "    elif isinstance(in_size, int):\n",
    "        return math.floor((in_size+2*p-k)/s)+1\n",
    "    else:\n",
    "        raise TypeError(f\"in_size unsupported type of {type(in_size)}\")"
   ]
  },
  {
   "cell_type": "code",
   "execution_count": 4,
   "metadata": {},
   "outputs": [
    {
     "data": {
      "text/plain": [
       "64"
      ]
     },
     "execution_count": 4,
     "metadata": {},
     "output_type": "execute_result"
    }
   ],
   "source": [
    "x = 512\n",
    "x = calc_out_size(x, 3, 1, 2)\n",
    "x = calc_out_size(x, 3, 1, 2)\n",
    "x = calc_out_size(x, 3, 1, 2)\n",
    "x"
   ]
  },
  {
   "cell_type": "code",
   "execution_count": 5,
   "metadata": {},
   "outputs": [],
   "source": [
    "model = SimpleConv(1)"
   ]
  },
  {
   "cell_type": "code",
   "execution_count": 6,
   "metadata": {},
   "outputs": [
    {
     "data": {
      "text/plain": [
       "ModuleList(\n",
       "  (0): Conv2d(1, 1, kernel_size=(3, 3), stride=(2, 2), padding=(1, 1))\n",
       "  (1): Conv2d(1, 1, kernel_size=(3, 3), stride=(2, 2), padding=(1, 1))\n",
       "  (2): Conv2d(1, 1, kernel_size=(3, 3), stride=(2, 2), padding=(1, 1))\n",
       ")"
      ]
     },
     "execution_count": 6,
     "metadata": {},
     "output_type": "execute_result"
    }
   ],
   "source": [
    "model._modules[\"layers\"]"
   ]
  },
  {
   "cell_type": "code",
   "execution_count": 7,
   "metadata": {},
   "outputs": [
    {
     "data": {
      "text/plain": [
       "{'training': True,\n",
       " '_parameters': OrderedDict([('weight', Parameter containing:\n",
       "               tensor([[[[ 0.2995,  0.2869, -0.0967],\n",
       "                         [-0.0608,  0.2391, -0.1099],\n",
       "                         [ 0.3067,  0.2661, -0.1324]]]], requires_grad=True)),\n",
       "              ('bias',\n",
       "               Parameter containing:\n",
       "               tensor([0.1518], requires_grad=True))]),\n",
       " '_buffers': OrderedDict(),\n",
       " '_non_persistent_buffers_set': set(),\n",
       " '_backward_hooks': OrderedDict(),\n",
       " '_is_full_backward_hook': None,\n",
       " '_forward_hooks': OrderedDict(),\n",
       " '_forward_pre_hooks': OrderedDict(),\n",
       " '_state_dict_hooks': OrderedDict(),\n",
       " '_load_state_dict_pre_hooks': OrderedDict(),\n",
       " '_modules': OrderedDict(),\n",
       " 'in_channels': 1,\n",
       " 'out_channels': 1,\n",
       " 'kernel_size': (3, 3),\n",
       " 'stride': (2, 2),\n",
       " 'padding': (1, 1),\n",
       " 'dilation': (1, 1),\n",
       " 'transposed': False,\n",
       " 'output_padding': (0, 0),\n",
       " 'groups': 1,\n",
       " 'padding_mode': 'zeros',\n",
       " '_reversed_padding_repeated_twice': (1, 1, 1, 1)}"
      ]
     },
     "execution_count": 7,
     "metadata": {},
     "output_type": "execute_result"
    }
   ],
   "source": [
    "next(next(next(model.modules()).children()).children()).__dict__"
   ]
  }
 ],
 "metadata": {
  "kernelspec": {
   "display_name": "Python 3.10.4 ('.venv': venv)",
   "language": "python",
   "name": "python3"
  },
  "language_info": {
   "codemirror_mode": {
    "name": "ipython",
    "version": 3
   },
   "file_extension": ".py",
   "mimetype": "text/x-python",
   "name": "python",
   "nbconvert_exporter": "python",
   "pygments_lexer": "ipython3",
   "version": "3.10.4"
  },
  "orig_nbformat": 4,
  "vscode": {
   "interpreter": {
    "hash": "c248e6104bd959e5724d79211e531f4a227ee51afecf81cca8a8f9654ab16a32"
   }
  }
 },
 "nbformat": 4,
 "nbformat_minor": 2
}
