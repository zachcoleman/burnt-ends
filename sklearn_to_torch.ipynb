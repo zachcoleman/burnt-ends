{
 "cells": [
  {
   "cell_type": "code",
   "execution_count": 1,
   "metadata": {},
   "outputs": [],
   "source": [
    "import numpy as np\n",
    "from sklearn.isotonic import IsotonicRegression\n",
    "from sklearn.linear_model import LogisticRegression\n",
    "import torch\n",
    "import matplotlib.pyplot as plt"
   ]
  },
  {
   "cell_type": "code",
   "execution_count": 2,
   "metadata": {},
   "outputs": [],
   "source": [
    "rand_feature_map = torch.normal(0, 1, (10, 512, 512))"
   ]
  },
  {
   "cell_type": "code",
   "execution_count": 3,
   "metadata": {},
   "outputs": [],
   "source": [
    "X = rand_feature_map.numpy().reshape(-1)\n",
    "y = X >= 0\n",
    "X = np.clip(X + np.random.normal(0, 1, X.shape), 0, 1)\n",
    "\n",
    "X = X[:10_000]\n",
    "y = y[:10_000]"
   ]
  },
  {
   "cell_type": "code",
   "execution_count": 4,
   "metadata": {},
   "outputs": [
    {
     "data": {
      "text/plain": [
       "LogisticRegression()"
      ]
     },
     "execution_count": 4,
     "metadata": {},
     "output_type": "execute_result"
    }
   ],
   "source": [
    "lr = LogisticRegression()\n",
    "lr.fit(X.reshape(-1, 1), y)"
   ]
  },
  {
   "cell_type": "code",
   "execution_count": 5,
   "metadata": {},
   "outputs": [
    {
     "data": {
      "text/plain": [
       "IsotonicRegression(out_of_bounds='clip')"
      ]
     },
     "execution_count": 5,
     "metadata": {},
     "output_type": "execute_result"
    }
   ],
   "source": [
    "ir = IsotonicRegression(out_of_bounds='clip')\n",
    "ir.fit(X, y)"
   ]
  },
  {
   "cell_type": "code",
   "execution_count": 6,
   "metadata": {},
   "outputs": [],
   "source": [
    "class TorchLogisticRegression(torch.nn.Module):\n",
    "    def __init__(self, lr: LogisticRegression):\n",
    "        super().__init__()\n",
    "        self._coef = torch.nn.Parameter(torch.from_numpy(lr.coef_))\n",
    "        self._intercept = torch.nn.Parameter(torch.from_numpy(lr.intercept_))\n",
    "    def forward(self, probs):\n",
    "        return torch.sigmoid(probs*self._coef + self._intercept)"
   ]
  },
  {
   "cell_type": "code",
   "execution_count": 7,
   "metadata": {},
   "outputs": [],
   "source": [
    "class TorchIsotonicRegression(torch.nn.Module):\n",
    "    def __init__(self, ir: IsotonicRegression):\n",
    "        super().__init__()\n",
    "        self.x_vals = torch.nn.Parameter(torch.from_numpy(ir.f_.x), requires_grad=False)\n",
    "        self.y_vals = torch.nn.Parameter(torch.from_numpy(ir.f_.y), requires_grad=False)\n",
    "    def forward(self, inputs):\n",
    "        masks = []\n",
    "        for x_val, y_val in zip(self.x_vals, self.y_vals):\n",
    "            masks.append(torch.where(inputs >= x_val, y_val, 0.))\n",
    "        vals, _ = torch.max(torch.stack(masks, dim=0), dim=0)\n",
    "        return vals "
   ]
  },
  {
   "cell_type": "code",
   "execution_count": 8,
   "metadata": {},
   "outputs": [],
   "source": [
    "torchLR = TorchLogisticRegression(lr)\n",
    "torchIR = TorchIsotonicRegression(ir)"
   ]
  },
  {
   "cell_type": "markdown",
   "metadata": {},
   "source": [
    "### LogisticRegression Test"
   ]
  },
  {
   "cell_type": "code",
   "execution_count": null,
   "metadata": {},
   "outputs": [],
   "source": [
    "xs = rand_feature_map.numpy()\n",
    "xs = xs.reshape(-1, 1)"
   ]
  },
  {
   "cell_type": "code",
   "execution_count": null,
   "metadata": {},
   "outputs": [],
   "source": [
    "%%timeit\n",
    "res = lr.predict_proba(xs)[:, 1]\n",
    "res = res.reshape(rand_feature_map.shape)"
   ]
  },
  {
   "cell_type": "code",
   "execution_count": null,
   "metadata": {},
   "outputs": [],
   "source": [
    "%%timeit\n",
    "with torch.no_grad():\n",
    "    res = torchLR.forward(rand_feature_map)\n",
    "    _ = res.numpy()"
   ]
  },
  {
   "cell_type": "code",
   "execution_count": null,
   "metadata": {},
   "outputs": [],
   "source": [
    "torchLR.to(\"cuda\")\n",
    "rand_feature_map = rand_feature_map.to(\"cuda\")"
   ]
  },
  {
   "cell_type": "code",
   "execution_count": null,
   "metadata": {},
   "outputs": [],
   "source": [
    "%%timeit\n",
    "with torch.no_grad():\n",
    "    res = torchLR.forward(rand_feature_map)\n",
    "    _ = res.cpu().numpy()"
   ]
  },
  {
   "cell_type": "markdown",
   "metadata": {},
   "source": [
    "#### Test Results"
   ]
  },
  {
   "cell_type": "code",
   "execution_count": null,
   "metadata": {},
   "outputs": [],
   "source": [
    "torchLR.to(\"cpu\")\n",
    "rand_feature_map = rand_feature_map.to(\"cpu\")\n",
    "with torch.no_grad():\n",
    "    torch_res = torchLR.forward(rand_feature_map)\n",
    "    torch_res = torch_res.numpy()"
   ]
  },
  {
   "cell_type": "code",
   "execution_count": null,
   "metadata": {},
   "outputs": [],
   "source": [
    "xs = rand_feature_map.numpy()\n",
    "xs = xs.reshape(-1, 1)\n",
    "sklearn_res = lr.predict_proba(xs)[:, 1]\n",
    "sklearn_res = sklearn_res.reshape(rand_feature_map.shape)"
   ]
  },
  {
   "cell_type": "code",
   "execution_count": null,
   "metadata": {},
   "outputs": [],
   "source": [
    "np.allclose(torch_res, sklearn_res)"
   ]
  },
  {
   "cell_type": "markdown",
   "metadata": {},
   "source": [
    "### IsotonicRegression Test"
   ]
  },
  {
   "cell_type": "code",
   "execution_count": null,
   "metadata": {},
   "outputs": [],
   "source": [
    "xs = rand_feature_map.numpy()\n",
    "xs = xs.reshape(-1)"
   ]
  },
  {
   "cell_type": "code",
   "execution_count": null,
   "metadata": {},
   "outputs": [],
   "source": [
    "%%timeit\n",
    "res = ir.predict(xs)\n",
    "res = res.reshape(rand_feature_map.shape)"
   ]
  },
  {
   "cell_type": "code",
   "execution_count": null,
   "metadata": {},
   "outputs": [],
   "source": [
    "%%timeit\n",
    "with torch.no_grad():\n",
    "    res = torchIR.forward(rand_feature_map)\n",
    "    _ = res.numpy()"
   ]
  },
  {
   "cell_type": "code",
   "execution_count": null,
   "metadata": {},
   "outputs": [],
   "source": [
    "torchIR.to(\"cuda\")\n",
    "rand_feature_map = rand_feature_map.to(\"cuda\")"
   ]
  },
  {
   "cell_type": "code",
   "execution_count": null,
   "metadata": {},
   "outputs": [],
   "source": [
    "%%timeit\n",
    "with torch.no_grad():\n",
    "    res = torchIR.forward(rand_feature_map)\n",
    "    _ = res.cpu().numpy()"
   ]
  },
  {
   "cell_type": "markdown",
   "metadata": {},
   "source": [
    "#### Test Results"
   ]
  },
  {
   "cell_type": "code",
   "execution_count": null,
   "metadata": {},
   "outputs": [],
   "source": [
    "torchIR.to(\"cpu\")\n",
    "rand_feature_map = rand_feature_map.to(\"cpu\")\n",
    "with torch.no_grad():\n",
    "    torch_res = torchIR.forward(rand_feature_map)\n",
    "    torch_res = torch_res.numpy()"
   ]
  },
  {
   "cell_type": "code",
   "execution_count": null,
   "metadata": {},
   "outputs": [],
   "source": [
    "xs = rand_feature_map.numpy()\n",
    "xs = xs.reshape(-1)\n",
    "sklearn_res = ir.predict(xs)\n",
    "sklearn_res = sklearn_res.reshape(rand_feature_map.shape)"
   ]
  },
  {
   "cell_type": "code",
   "execution_count": null,
   "metadata": {},
   "outputs": [],
   "source": [
    "# formula: y = y1 + (x - x1)*slope\n",
    "\n",
    "# slope[n] is for xs in interval x[n] - x[n+1]\n",
    "# so formula is: y = y[n] + (x - x[n])*slopes[n]"
   ]
  },
  {
   "cell_type": "code",
   "execution_count": null,
   "metadata": {},
   "outputs": [],
   "source": [
    "rand_feature_map = rand_feature_map.to(\"cpu\")"
   ]
  },
  {
   "cell_type": "code",
   "execution_count": 9,
   "metadata": {},
   "outputs": [],
   "source": [
    "x_vals = torch.nn.Parameter(torch.from_numpy(ir.f_.x), requires_grad=False)\n",
    "y_vals = torch.nn.Parameter(torch.from_numpy(ir.f_.y), requires_grad=False)\n",
    "slopes = torch.nn.Parameter(\n",
    "    torch.from_numpy(\n",
    "        np.concatenate([\n",
    "            (ir.f_.y[1:] - ir.f_.y[:-1]) / (ir.f_.x[1:] - ir.f_.x[:-1]),\n",
    "            np.array([0.]),\n",
    "        ])\n",
    "))\n",
    "masks = []\n",
    "for x_val, y_val in zip(x_vals, y_vals):\n",
    "    masks.append(torch.where(rand_feature_map >= x_val, x_val, 0.))\n",
    "_, ind = torch.max(torch.stack(masks, dim=0), dim=0)\n",
    "y = y_vals[ind] + (rand_feature_map - x_vals[ind])*slopes[ind]"
   ]
  },
  {
   "cell_type": "code",
   "execution_count": 12,
   "metadata": {},
   "outputs": [
    {
     "data": {
      "text/plain": [
       "[<matplotlib.lines.Line2D at 0x1597a6730>]"
      ]
     },
     "execution_count": 12,
     "metadata": {},
     "output_type": "execute_result"
    },
    {
     "data": {
      "image/png": "[encoded data removed]",
      "text/plain": [
       "<Figure size 432x288 with 1 Axes>"
      ]
     },
     "metadata": {
      "needs_background": "light"
     },
     "output_type": "display_data"
    }
   ],
   "source": [
    "plt.plot(x_vals, y_vals)\n",
    "plt.plot(np.array([0, 1]), np.array([0, 1]))"
   ]
  },
  {
   "cell_type": "code",
   "execution_count": null,
   "metadata": {},
   "outputs": [],
   "source": [
    "i, j, k = 0, 0, 1"
   ]
  },
  {
   "cell_type": "code",
   "execution_count": null,
   "metadata": {},
   "outputs": [],
   "source": [
    "x_vals"
   ]
  },
  {
   "cell_type": "code",
   "execution_count": null,
   "metadata": {},
   "outputs": [],
   "source": [
    "y_vals"
   ]
  },
  {
   "cell_type": "code",
   "execution_count": null,
   "metadata": {},
   "outputs": [],
   "source": [
    "def find():\n",
    "    for i in range(3):\n",
    "        for j in range(512):\n",
    "            for k in range(512):\n",
    "                if not np.allclose(y[i, j, k].detach().numpy(), ir.f_(rand_feature_map[i, j, k])):\n",
    "                    print(i, j, k)\n",
    "                    return\n",
    "\n",
    "find()"
   ]
  },
  {
   "cell_type": "code",
   "execution_count": null,
   "metadata": {},
   "outputs": [],
   "source": [
    "y[i, j, k].detach().numpy(), ir.f_(rand_feature_map[i, j, k])"
   ]
  },
  {
   "cell_type": "code",
   "execution_count": null,
   "metadata": {},
   "outputs": [],
   "source": [
    "ind[i, j, k]"
   ]
  },
  {
   "cell_type": "code",
   "execution_count": null,
   "metadata": {},
   "outputs": [],
   "source": [
    "slopes[ind[i, j, k]]"
   ]
  },
  {
   "cell_type": "code",
   "execution_count": null,
   "metadata": {},
   "outputs": [],
   "source": [
    "x_vals[ind[i, j, k]]"
   ]
  },
  {
   "cell_type": "code",
   "execution_count": null,
   "metadata": {},
   "outputs": [],
   "source": [
    "y_vals[ind[i, j, k]]"
   ]
  },
  {
   "cell_type": "code",
   "execution_count": null,
   "metadata": {},
   "outputs": [],
   "source": [
    "(rand_feature_map[i, j, k] - x_vals[ind[i, j, k]])"
   ]
  },
  {
   "cell_type": "code",
   "execution_count": null,
   "metadata": {},
   "outputs": [],
   "source": [
    "ind[i, j, k], rand_feature_map[i, j, k]"
   ]
  },
  {
   "cell_type": "code",
   "execution_count": null,
   "metadata": {},
   "outputs": [],
   "source": [
    "from itertools import zip_longest"
   ]
  },
  {
   "cell_type": "code",
   "execution_count": null,
   "metadata": {},
   "outputs": [],
   "source": [
    "list(zip_longest(range(ind[i, j, k]-3, ind[i, j, k]+3), x_vals[ind[i, j, k]-3:ind[i, j, k]+3]))"
   ]
  },
  {
   "cell_type": "code",
   "execution_count": null,
   "metadata": {},
   "outputs": [],
   "source": [
    "list(zip_longest(range(ind[i, j, k]-3, ind[i, j, k]+3), y_vals[ind[i, j, k]-3:ind[i, j, k]+3]))"
   ]
  },
  {
   "cell_type": "code",
   "execution_count": null,
   "metadata": {},
   "outputs": [],
   "source": [
    "list(zip(zip_longest(ind[i, j, k]-3, ind[i, j, k]+3), slopes[ind[i, j, k]-3:ind[i, j, k]+3]))"
   ]
  },
  {
   "cell_type": "code",
   "execution_count": null,
   "metadata": {},
   "outputs": [],
   "source": []
  }
 ],
 "metadata": {
  "interpreter": {
   "hash": "5900bdd12e2be0eee0f3bf4a7137ff1e11a0f4f5605e7dfa66926373efa45bc2"
  },
  "kernelspec": {
   "display_name": "Python 3.9.7 64-bit ('torch-testing-y2vIS3BD-py3.9': poetry)",
   "language": "python",
   "name": "python3"
  },
  "language_info": {
   "codemirror_mode": {
    "name": "ipython",
    "version": 3
   },
   "file_extension": ".py",
   "mimetype": "text/x-python",
   "name": "python",
   "nbconvert_exporter": "python",
   "pygments_lexer": "ipython3",
   "version": "3.9.7"
  },
  "orig_nbformat": 4
 },
 "nbformat": 4,
 "nbformat_minor": 2
}
