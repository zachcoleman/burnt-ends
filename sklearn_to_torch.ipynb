{
 "cells": [
  {
   "cell_type": "markdown",
   "metadata": {},
   "source": []
  },
  {
   "cell_type": "code",
   "execution_count": 1,
   "metadata": {},
   "outputs": [],
   "source": [
    "import torch\n",
    "import numpy as np\n",
    "import matplotlib.pyplot as plt\n",
    "from sklearn.isotonic import IsotonicRegression\n",
    "from sklearn.linear_model import LogisticRegression"
   ]
  },
  {
   "cell_type": "code",
   "execution_count": 2,
   "metadata": {},
   "outputs": [],
   "source": [
    "rand_feature_map = torch.normal(0, 1, (10, 512, 512))"
   ]
  },
  {
   "cell_type": "code",
   "execution_count": 3,
   "metadata": {},
   "outputs": [],
   "source": [
    "X = rand_feature_map.numpy().reshape(-1)\n",
    "y = X >= 0\n",
    "X = np.clip(X + np.random.normal(0, 1, X.shape), 0, 1)\n",
    "\n",
    "X = X[:10_000]\n",
    "y = y[:10_000]"
   ]
  },
  {
   "cell_type": "code",
   "execution_count": 4,
   "metadata": {},
   "outputs": [
    {
     "data": {
      "text/plain": [
       "IsotonicRegression(out_of_bounds='clip')"
      ]
     },
     "execution_count": 4,
     "metadata": {},
     "output_type": "execute_result"
    }
   ],
   "source": [
    "lr = LogisticRegression()\n",
    "lr.fit(X.reshape(-1, 1), y)\n",
    "\n",
    "ir = IsotonicRegression(out_of_bounds=\"clip\")\n",
    "ir.fit(X, y)"
   ]
  },
  {
   "cell_type": "code",
   "execution_count": 5,
   "metadata": {},
   "outputs": [],
   "source": [
    "class TorchLogisticRegression(torch.nn.Module):\n",
    "    def __init__(self, lr: LogisticRegression):\n",
    "        super().__init__()\n",
    "        self._coef = torch.nn.Parameter(torch.from_numpy(lr.coef_))\n",
    "        self._intercept = torch.nn.Parameter(torch.from_numpy(lr.intercept_))\n",
    "    def forward(self, probs):\n",
    "        return torch.sigmoid(probs*self._coef + self._intercept)"
   ]
  },
  {
   "cell_type": "code",
   "execution_count": 6,
   "metadata": {},
   "outputs": [],
   "source": [
    "# formula: y = y1 + (x - x1)*slope\n",
    "\n",
    "# slope[n] is for xs in interval x[n] - x[n+1]\n",
    "# so formula is: y = y[n] + (x - x[n])*slopes[n]"
   ]
  },
  {
   "cell_type": "code",
   "execution_count": 7,
   "metadata": {},
   "outputs": [],
   "source": [
    "class TorchIsotonicRegression(torch.nn.Module):\n",
    "    def __init__(self, ir: IsotonicRegression):\n",
    "        super().__init__()\n",
    "        self.x_vals = torch.nn.Parameter(torch.from_numpy(ir.f_.x), requires_grad=False)\n",
    "        self.y_vals = torch.nn.Parameter(torch.from_numpy(ir.f_.y), requires_grad=False)\n",
    "        self.slopes = torch.nn.Parameter(\n",
    "            torch.from_numpy(\n",
    "                np.concatenate([\n",
    "                    (ir.f_.y[1:] - ir.f_.y[:-1]) / (ir.f_.x[1:] - ir.f_.x[:-1]),\n",
    "                    np.array([0.]),\n",
    "                ])\n",
    "        ))\n",
    "    def forward(self, inputs):\n",
    "        masks = []\n",
    "        for x_val in self.x_vals:\n",
    "            masks.append(torch.where(rand_feature_map >= x_val, x_val, 0.))\n",
    "        _, ind = torch.max(torch.stack(masks, dim=0), dim=0)\n",
    "        y = self.y_vals[ind] + (inputs - self.x_vals[ind]) * self.slopes[ind]\n",
    "        y = torch.clamp(y, self.y_vals.min(), self.y_vals.max())\n",
    "        return y"
   ]
  },
  {
   "cell_type": "code",
   "execution_count": 8,
   "metadata": {},
   "outputs": [],
   "source": [
    "torchLR = TorchLogisticRegression(lr)\n",
    "torchIR = TorchIsotonicRegression(ir)"
   ]
  },
  {
   "cell_type": "markdown",
   "metadata": {},
   "source": [
    "### LogisticRegression Test"
   ]
  },
  {
   "cell_type": "code",
   "execution_count": 9,
   "metadata": {},
   "outputs": [],
   "source": [
    "xs = rand_feature_map.numpy()\n",
    "xs = xs.reshape(-1, 1)"
   ]
  },
  {
   "cell_type": "code",
   "execution_count": 10,
   "metadata": {},
   "outputs": [
    {
     "name": "stdout",
     "output_type": "stream",
     "text": [
      "72.4 ms ± 15.8 ms per loop (mean ± std. dev. of 7 runs, 10 loops each)\n"
     ]
    }
   ],
   "source": [
    "%%timeit\n",
    "res = lr.predict_proba(xs)[:, 1]\n",
    "res = res.reshape(rand_feature_map.shape)"
   ]
  },
  {
   "cell_type": "code",
   "execution_count": 11,
   "metadata": {},
   "outputs": [
    {
     "name": "stdout",
     "output_type": "stream",
     "text": [
      "28 ms ± 2.38 ms per loop (mean ± std. dev. of 7 runs, 10 loops each)\n"
     ]
    }
   ],
   "source": [
    "%%timeit\n",
    "with torch.no_grad():\n",
    "    res = torchLR.forward(rand_feature_map)\n",
    "    _ = res.numpy()"
   ]
  },
  {
   "cell_type": "code",
   "execution_count": 12,
   "metadata": {},
   "outputs": [],
   "source": [
    "torchLR.to(\"cuda\")\n",
    "rand_feature_map = rand_feature_map.to(\"cuda\")"
   ]
  },
  {
   "cell_type": "code",
   "execution_count": 13,
   "metadata": {},
   "outputs": [
    {
     "name": "stdout",
     "output_type": "stream",
     "text": [
      "6.6 ms ± 1.3 ms per loop (mean ± std. dev. of 7 runs, 100 loops each)\n"
     ]
    }
   ],
   "source": [
    "%%timeit\n",
    "with torch.no_grad():\n",
    "    res = torchLR.forward(rand_feature_map)\n",
    "    _ = res.cpu().numpy()"
   ]
  },
  {
   "cell_type": "markdown",
   "metadata": {},
   "source": [
    "#### Test Results"
   ]
  },
  {
   "cell_type": "code",
   "execution_count": 14,
   "metadata": {},
   "outputs": [],
   "source": [
    "torchLR.to(\"cpu\")\n",
    "rand_feature_map = rand_feature_map.to(\"cpu\")\n",
    "with torch.no_grad():\n",
    "    torch_res = torchLR.forward(rand_feature_map)\n",
    "    torch_res = torch_res.numpy()"
   ]
  },
  {
   "cell_type": "code",
   "execution_count": 15,
   "metadata": {},
   "outputs": [],
   "source": [
    "xs = rand_feature_map.numpy()\n",
    "xs = xs.reshape(-1, 1)\n",
    "sklearn_res = lr.predict_proba(xs)[:, 1]\n",
    "sklearn_res = sklearn_res.reshape(rand_feature_map.shape)"
   ]
  },
  {
   "cell_type": "code",
   "execution_count": 16,
   "metadata": {},
   "outputs": [
    {
     "data": {
      "text/plain": [
       "True"
      ]
     },
     "execution_count": 16,
     "metadata": {},
     "output_type": "execute_result"
    }
   ],
   "source": [
    "np.allclose(torch_res, sklearn_res)"
   ]
  },
  {
   "cell_type": "markdown",
   "metadata": {},
   "source": [
    "### IsotonicRegression Test"
   ]
  },
  {
   "cell_type": "code",
   "execution_count": 17,
   "metadata": {},
   "outputs": [],
   "source": [
    "xs = rand_feature_map.numpy()\n",
    "xs = xs.reshape(-1)"
   ]
  },
  {
   "cell_type": "code",
   "execution_count": 18,
   "metadata": {},
   "outputs": [
    {
     "name": "stdout",
     "output_type": "stream",
     "text": [
      "84.6 ms ± 13.6 ms per loop (mean ± std. dev. of 7 runs, 10 loops each)\n"
     ]
    }
   ],
   "source": [
    "%%timeit\n",
    "res = ir.predict(xs)\n",
    "res = res.reshape(rand_feature_map.shape)"
   ]
  },
  {
   "cell_type": "code",
   "execution_count": 19,
   "metadata": {},
   "outputs": [
    {
     "name": "stdout",
     "output_type": "stream",
     "text": [
      "1.23 s ± 208 ms per loop (mean ± std. dev. of 7 runs, 1 loop each)\n"
     ]
    }
   ],
   "source": [
    "%%timeit\n",
    "with torch.no_grad():\n",
    "    res = torchIR.forward(rand_feature_map)\n",
    "    _ = res.numpy()"
   ]
  },
  {
   "cell_type": "code",
   "execution_count": 20,
   "metadata": {},
   "outputs": [],
   "source": [
    "torchIR.to(\"cuda\")\n",
    "rand_feature_map = rand_feature_map.to(\"cuda\")"
   ]
  },
  {
   "cell_type": "code",
   "execution_count": 21,
   "metadata": {},
   "outputs": [
    {
     "name": "stdout",
     "output_type": "stream",
     "text": [
      "31.3 ms ± 5.25 ms per loop (mean ± std. dev. of 7 runs, 10 loops each)\n"
     ]
    }
   ],
   "source": [
    "%%timeit\n",
    "with torch.no_grad():\n",
    "    res = torchIR.forward(rand_feature_map)\n",
    "    _ = res.cpu().numpy()"
   ]
  },
  {
   "cell_type": "markdown",
   "metadata": {},
   "source": [
    "#### Test Results"
   ]
  },
  {
   "cell_type": "code",
   "execution_count": 22,
   "metadata": {},
   "outputs": [],
   "source": [
    "torchIR.to(\"cpu\")\n",
    "rand_feature_map = rand_feature_map.to(\"cpu\")\n",
    "with torch.no_grad():\n",
    "    torch_res = torchIR.forward(rand_feature_map)\n",
    "    torch_res = torch_res.numpy()"
   ]
  },
  {
   "cell_type": "code",
   "execution_count": 23,
   "metadata": {},
   "outputs": [],
   "source": [
    "xs = rand_feature_map.numpy()\n",
    "xs = xs.reshape(-1)\n",
    "sklearn_res = ir.predict(xs)\n",
    "sklearn_res = sklearn_res.reshape(rand_feature_map.shape)"
   ]
  },
  {
   "cell_type": "code",
   "execution_count": 24,
   "metadata": {},
   "outputs": [
    {
     "data": {
      "text/plain": [
       "True"
      ]
     },
     "execution_count": 24,
     "metadata": {},
     "output_type": "execute_result"
    }
   ],
   "source": [
    "np.allclose(torch_res, sklearn_res)"
   ]
  }
 ],
 "metadata": {
  "interpreter": {
   "hash": "5900bdd12e2be0eee0f3bf4a7137ff1e11a0f4f5605e7dfa66926373efa45bc2"
  },
  "kernelspec": {
   "display_name": "Python 3.9.7 64-bit ('torch-testing-y2vIS3BD-py3.9': poetry)",
   "language": "python",
   "name": "python3"
  },
  "language_info": {
   "codemirror_mode": {
    "name": "ipython",
    "version": 3
   },
   "file_extension": ".py",
   "mimetype": "text/x-python",
   "name": "python",
   "nbconvert_exporter": "python",
   "pygments_lexer": "ipython3",
   "version": "3.8.12"
  },
  "orig_nbformat": 4
 },
 "nbformat": 4,
 "nbformat_minor": 2
}
