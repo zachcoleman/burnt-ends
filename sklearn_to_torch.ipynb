{
 "cells": [
  {
   "cell_type": "code",
   "execution_count": 1,
   "metadata": {},
   "outputs": [],
   "source": [
    "import numpy as np\n",
    "from sklearn.isotonic import IsotonicRegression\n",
    "from sklearn.linear_model import LogisticRegression\n",
    "import torch\n",
    "import matplotlib.pyplot as plt"
   ]
  },
  {
   "cell_type": "code",
   "execution_count": 2,
   "metadata": {},
   "outputs": [],
   "source": [
    "rand_feature_map = torch.normal(0, 1, (10, 512, 512))"
   ]
  },
  {
   "cell_type": "code",
   "execution_count": 3,
   "metadata": {},
   "outputs": [],
   "source": [
    "X = np.random.rand(1_000)\n",
    "y = X >= .5\n",
    "X = np.clip(X + (np.random.rand(1_000) - 0.5)/4, 0, 1)"
   ]
  },
  {
   "cell_type": "code",
   "execution_count": 4,
   "metadata": {},
   "outputs": [
    {
     "data": {
      "text/plain": [
       "LogisticRegression()"
      ]
     },
     "execution_count": 4,
     "metadata": {},
     "output_type": "execute_result"
    }
   ],
   "source": [
    "lr = LogisticRegression()\n",
    "lr.fit(X.reshape(-1, 1), y)"
   ]
  },
  {
   "cell_type": "code",
   "execution_count": 6,
   "metadata": {},
   "outputs": [
    {
     "data": {
      "text/plain": [
       "IsotonicRegression(out_of_bounds='clip')"
      ]
     },
     "execution_count": 6,
     "metadata": {},
     "output_type": "execute_result"
    }
   ],
   "source": [
    "ir = IsotonicRegression(out_of_bounds='clip')\n",
    "ir.fit(X, y)"
   ]
  },
  {
   "cell_type": "code",
   "execution_count": 7,
   "metadata": {},
   "outputs": [],
   "source": [
    "class TorchLogisticRegression(torch.nn.Module):\n",
    "    def __init__(self, lr: LogisticRegression):\n",
    "        super().__init__()\n",
    "        self._coef = torch.from_numpy(lr.coef_)\n",
    "        self._intercept = torch.from_numpy(lr.intercept_)\n",
    "    def forward(self, probs):\n",
    "        return torch.sigmoid(probs*self._coef + self._intercept)"
   ]
  },
  {
   "cell_type": "code",
   "execution_count": 8,
   "metadata": {},
   "outputs": [],
   "source": [
    "class TorchIsotonicRegression(torch.nn.Module):\n",
    "    def __init__(self, ir: IsotonicRegression):\n",
    "        super().__init__()\n",
    "        self.x_vals = torch.from_numpy(ir.f_.x)\n",
    "        self.y_vals = torch.from_numpy(ir.f_.y)\n",
    "    def forward(self, inputs):\n",
    "        masks = []\n",
    "        for x_val, y_val in zip(self.x_vals, self.y_vals):\n",
    "            masks.append(torch.where(inputs >= x_val, y_val, 0.))\n",
    "        vals, _ = torch.max(torch.stack(masks, dim=0), dim=0)\n",
    "        return vals "
   ]
  },
  {
   "cell_type": "code",
   "execution_count": 9,
   "metadata": {},
   "outputs": [],
   "source": [
    "torchLR = TorchLogisticRegression(lr)\n",
    "torchIR = TorchIsotonicRegression(ir)"
   ]
  },
  {
   "cell_type": "markdown",
   "metadata": {},
   "source": [
    "### LogisticRegression Test"
   ]
  },
  {
   "cell_type": "code",
   "execution_count": 10,
   "metadata": {},
   "outputs": [],
   "source": [
    "xs = rand_feature_map.numpy()\n",
    "xs = xs.reshape(-1, 1)"
   ]
  },
  {
   "cell_type": "code",
   "execution_count": 11,
   "metadata": {},
   "outputs": [
    {
     "name": "stdout",
     "output_type": "stream",
     "text": [
      "31.2 ms ± 781 µs per loop (mean ± std. dev. of 7 runs, 10 loops each)\n"
     ]
    }
   ],
   "source": [
    "%%timeit\n",
    "res = lr.predict_proba(xs)[:, 1]\n",
    "res = res.reshape(rand_feature_map.shape)"
   ]
  },
  {
   "cell_type": "code",
   "execution_count": 12,
   "metadata": {},
   "outputs": [
    {
     "name": "stdout",
     "output_type": "stream",
     "text": [
      "7.69 ms ± 277 µs per loop (mean ± std. dev. of 7 runs, 100 loops each)\n"
     ]
    }
   ],
   "source": [
    "%%timeit\n",
    "res = torchLR.forward(rand_feature_map)\n",
    "_ = res.numpy()"
   ]
  },
  {
   "cell_type": "code",
   "execution_count": 13,
   "metadata": {},
   "outputs": [],
   "source": [
    "torch_res = torchLR.forward(rand_feature_map)\n",
    "torch_res = torch_res.numpy()"
   ]
  },
  {
   "cell_type": "code",
   "execution_count": 14,
   "metadata": {},
   "outputs": [],
   "source": [
    "xs = rand_feature_map.numpy()\n",
    "xs = xs.reshape(-1, 1)\n",
    "sklearn_res = lr.predict_proba(xs)[:, 1]\n",
    "sklearn_res = sklearn_res.reshape(rand_feature_map.shape)"
   ]
  },
  {
   "cell_type": "code",
   "execution_count": 15,
   "metadata": {},
   "outputs": [
    {
     "data": {
      "text/plain": [
       "True"
      ]
     },
     "execution_count": 15,
     "metadata": {},
     "output_type": "execute_result"
    }
   ],
   "source": [
    "np.allclose(torch_res, sklearn_res)"
   ]
  },
  {
   "cell_type": "markdown",
   "metadata": {},
   "source": [
    "### IsotonicRegression Test"
   ]
  },
  {
   "cell_type": "code",
   "execution_count": 16,
   "metadata": {},
   "outputs": [],
   "source": [
    "xs = rand_feature_map.numpy()\n",
    "xs = xs.reshape(-1)"
   ]
  },
  {
   "cell_type": "code",
   "execution_count": 17,
   "metadata": {},
   "outputs": [
    {
     "name": "stdout",
     "output_type": "stream",
     "text": [
      "60.4 ms ± 3.84 ms per loop (mean ± std. dev. of 7 runs, 10 loops each)\n"
     ]
    }
   ],
   "source": [
    "%%timeit\n",
    "res = ir.predict(xs)\n",
    "res = res.reshape(rand_feature_map.shape)"
   ]
  },
  {
   "cell_type": "code",
   "execution_count": 18,
   "metadata": {},
   "outputs": [
    {
     "name": "stdout",
     "output_type": "stream",
     "text": [
      "117 ms ± 6.92 ms per loop (mean ± std. dev. of 7 runs, 1 loop each)\n"
     ]
    }
   ],
   "source": [
    "%%timeit\n",
    "res = torchIR.forward(rand_feature_map)\n",
    "_ = res.numpy()"
   ]
  },
  {
   "cell_type": "code",
   "execution_count": 19,
   "metadata": {},
   "outputs": [],
   "source": [
    "torch_res = torchIR.forward(rand_feature_map)\n",
    "torch_res = torch_res.numpy()"
   ]
  },
  {
   "cell_type": "code",
   "execution_count": 20,
   "metadata": {},
   "outputs": [],
   "source": [
    "xs = rand_feature_map.numpy()\n",
    "xs = xs.reshape(-1)\n",
    "sklearn_res = ir.predict(xs)\n",
    "sklearn_res = sklearn_res.reshape(rand_feature_map.shape)"
   ]
  },
  {
   "cell_type": "code",
   "execution_count": 64,
   "metadata": {},
   "outputs": [
    {
     "data": {
      "text/plain": [
       "(array([0.        , 0.08333333, 0.        , 0.07993197, 0.        ,\n",
       "        0.17006803, 0.        , 0.10784314, 0.        , 0.05882353,\n",
       "        0.        , 0.06521739, 0.        , 0.23023715, 0.        ,\n",
       "        0.12121212, 0.        , 0.00925926, 0.        , 0.07407407,\n",
       "        0.        ]),\n",
       " array([3.79625328e-01, 2.45735899e-03, 1.07856748e-02, 5.75513368e-04,\n",
       "        4.89614198e-02, 1.39243575e-03, 2.97546258e-04, 4.05579307e-04,\n",
       "        5.89870871e-02, 6.04561218e-04, 1.07226790e-03, 1.00392629e-03,\n",
       "        3.33646426e-02, 4.45536055e-04, 3.88950619e-02, 4.21454077e-04,\n",
       "        7.64076220e-03, 2.97197832e-03, 2.61900351e-02, 8.59278228e-04,\n",
       "        3.83042553e-01]))"
      ]
     },
     "execution_count": 64,
     "metadata": {},
     "output_type": "execute_result"
    }
   ],
   "source": [
    "ir.f_.y[1:] - ir.f_.y[:-1], ir.f_.x[1:] - ir.f_.x[:-1]"
   ]
  },
  {
   "cell_type": "code",
   "execution_count": 57,
   "metadata": {},
   "outputs": [
    {
     "data": {
      "text/plain": [
       "[<matplotlib.lines.Line2D at 0x13f786340>]"
      ]
     },
     "execution_count": 57,
     "metadata": {},
     "output_type": "execute_result"
    },
    {
     "data": {
      "image/png": "[encoded data removed]",
      "text/plain": [
       "<Figure size 432x288 with 1 Axes>"
      ]
     },
     "metadata": {
      "needs_background": "light"
     },
     "output_type": "display_data"
    }
   ],
   "source": [
    "plt.plot(ir.f_.x, ir.f_.y)"
   ]
  },
  {
   "cell_type": "code",
   "execution_count": null,
   "metadata": {},
   "outputs": [],
   "source": []
  }
 ],
 "metadata": {
  "interpreter": {
   "hash": "5900bdd12e2be0eee0f3bf4a7137ff1e11a0f4f5605e7dfa66926373efa45bc2"
  },
  "kernelspec": {
   "display_name": "Python 3.9.7 64-bit ('torch-testing-y2vIS3BD-py3.9': poetry)",
   "language": "python",
   "name": "python3"
  },
  "language_info": {
   "codemirror_mode": {
    "name": "ipython",
    "version": 3
   },
   "file_extension": ".py",
   "mimetype": "text/x-python",
   "name": "python",
   "nbconvert_exporter": "python",
   "pygments_lexer": "ipython3",
   "version": "3.9.7"
  },
  "orig_nbformat": 4
 },
 "nbformat": 4,
 "nbformat_minor": 2
}
