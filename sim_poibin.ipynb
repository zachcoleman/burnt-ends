{
 "cells": [
  {
   "cell_type": "markdown",
   "metadata": {},
   "source": [
    "## Imports"
   ]
  },
  {
   "cell_type": "code",
   "execution_count": 1,
   "metadata": {},
   "outputs": [],
   "source": [
    "import numpy as np\n",
    "import torch\n",
    "import matplotlib.pyplot as plt"
   ]
  },
  {
   "cell_type": "markdown",
   "metadata": {},
   "source": [
    "## Typical Image Size\n",
    "Let's consider a region of interest in an image w/ a bbox of pixels"
   ]
  },
  {
   "cell_type": "code",
   "execution_count": 2,
   "metadata": {},
   "outputs": [],
   "source": [
    "# number of pixels in bbox\n",
    "bbox_size = (100, 100)"
   ]
  },
  {
   "cell_type": "markdown",
   "metadata": {},
   "source": [
    "## Model Outputs\n",
    "If we consider the output of the model to be independent conditional Bernoulli random variables, then the sum of the sucesses across the set of non-equal $p_i$ is described by the Poisson binomial distribution."
   ]
  },
  {
   "cell_type": "code",
   "execution_count": 3,
   "metadata": {},
   "outputs": [],
   "source": [
    "# these are conditional probabilities described by model\n",
    "\n",
    "# a random noise model\n",
    "cond_probs = np.random.uniform(size=np.multiply(*bbox_size))\n",
    "\n",
    "# a very confident model\n",
    "cond_probs = np.array(\n",
    "    [0.01 for _ in range(np.floor(0.75*np.multiply(*bbox_size)).astype(np.int64))] + \\\n",
    "    [0.99 for _ in range(np.ceil(0.25*np.multiply(*bbox_size)).astype(np.int64))]\n",
    ") \n",
    "\n",
    "# a tiered model\n",
    "cond_probs = np.array(\n",
    "    [0.01 for _ in range(np.floor(0.25*np.multiply(*bbox_size)).astype(np.int64))] + \\\n",
    "    [0.2 for _ in range(np.floor(0.25*np.multiply(*bbox_size)).astype(np.int64))] + \\\n",
    "    [0.8 for _ in range(np.floor(0.25*np.multiply(*bbox_size)).astype(np.int64))] + \\\n",
    "    [0.99 for _ in range(np.ceil(0.25*np.multiply(*bbox_size)).astype(np.int64))]\n",
    ") \n",
    "\n",
    "# a tiered model\n",
    "cond_probs = np.array(\n",
    "    [0.01 for _ in range(np.floor(0.99*np.multiply(*bbox_size)).astype(np.int64))] + \\\n",
    "    [0.60 for _ in range(np.ceil(0.01*np.multiply(*bbox_size)).astype(np.int64))]\n",
    ") "
   ]
  },
  {
   "cell_type": "code",
   "execution_count": 4,
   "metadata": {},
   "outputs": [],
   "source": [
    "beta = 0.1\n",
    "mu = np.sum(cond_probs)\n",
    "vars = (cond_probs * (1 - cond_probs)).reshape(bbox_size)\n",
    "covars = np.arange(vars.shape[0]) * vars  # old methodology"
   ]
  },
  {
   "cell_type": "code",
   "execution_count": 5,
   "metadata": {},
   "outputs": [],
   "source": [
    "import numpy as np\n",
    "   \n",
    "def gkern(size=5, sig=1.):\n",
    "    \"\"\"Creates Gaussian square kernel (size,size) w/ a sigma of sig\"\"\"\n",
    "    ax = np.linspace(-(size - 1) / 2., (size - 1) / 2., size)\n",
    "    gauss = np.exp(-0.5 * np.square(ax) / np.square(sig))\n",
    "    kernel = np.outer(gauss, gauss)\n",
    "    return kernel"
   ]
  },
  {
   "cell_type": "code",
   "execution_count": 6,
   "metadata": {},
   "outputs": [],
   "source": [
    "conv_filter = gkern(32, 8)\n",
    "\n",
    "\n",
    "weights = torch.Tensor(np.expand_dims(np.expand_dims(conv_filter, 0), 0))\n",
    "vars = torch.Tensor(np.expand_dims(np.expand_dims(vars, 0), 0))"
   ]
  },
  {
   "cell_type": "code",
   "execution_count": 7,
   "metadata": {},
   "outputs": [
    {
     "name": "stderr",
     "output_type": "stream",
     "text": [
      "/var/folders/pg/stxydh9d15j6s6v1bjqysn640000gn/T/ipykernel_183/828834084.py:2: UserWarning: Using padding='same' with even kernel lengths and odd dilation may require a zero-padded copy of the input be created (Triggered internally at  ../aten/src/ATen/native/Convolution.cpp:660.)\n",
      "  sd = np.sqrt(torch.nn.functional.conv2d(vars, weights, padding=\"same\").sum().numpy())\n"
     ]
    }
   ],
   "source": [
    "# print(mu, np.sqrt(np.sum(cond_probs * (1 - cond_probs))))\n",
    "sd = np.sqrt(torch.nn.functional.conv2d(vars, weights, padding=\"same\").sum().numpy())"
   ]
  },
  {
   "cell_type": "markdown",
   "metadata": {},
   "source": [
    "## Dist'n Approx"
   ]
  },
  {
   "cell_type": "code",
   "execution_count": 8,
   "metadata": {},
   "outputs": [
    {
     "name": "stderr",
     "output_type": "stream",
     "text": [
      "/var/folders/pg/stxydh9d15j6s6v1bjqysn640000gn/T/ipykernel_183/1862914191.py:5: UserWarning: Matplotlib is currently using module://matplotlib_inline.backend_inline, which is a non-GUI backend, so cannot show the figure.\n",
      "  fig.show()\n"
     ]
    },
    {
     "data": {
      "image/png": "[encoded data removed]",
      "text/plain": [
       "<Figure size 576x288 with 1 Axes>"
      ]
     },
     "metadata": {
      "needs_background": "light"
     },
     "output_type": "display_data"
    }
   ],
   "source": [
    "norm_x = np.random.normal(loc=mu, scale=sd, size=10_000)\n",
    "\n",
    "fig, ax = plt.subplots(1, 1, figsize=(8, 4))\n",
    "ax.hist(norm_x, density=True)\n",
    "fig.show()"
   ]
  },
  {
   "cell_type": "code",
   "execution_count": null,
   "metadata": {},
   "outputs": [],
   "source": []
  }
 ],
 "metadata": {
  "interpreter": {
   "hash": "5900bdd12e2be0eee0f3bf4a7137ff1e11a0f4f5605e7dfa66926373efa45bc2"
  },
  "kernelspec": {
   "display_name": "Python 3.9.7 64-bit ('torch-testing-y2vIS3BD-py3.9': poetry)",
   "name": "python3"
  },
  "language_info": {
   "codemirror_mode": {
    "name": "ipython",
    "version": 3
   },
   "file_extension": ".py",
   "mimetype": "text/x-python",
   "name": "python",
   "nbconvert_exporter": "python",
   "pygments_lexer": "ipython3",
   "version": "3.9.7"
  },
  "orig_nbformat": 4
 },
 "nbformat": 4,
 "nbformat_minor": 2
}
