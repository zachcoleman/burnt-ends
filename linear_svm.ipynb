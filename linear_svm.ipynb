{
 "cells": [
  {
   "cell_type": "code",
   "execution_count": 1,
   "metadata": {},
   "outputs": [],
   "source": [
    "from itertools import cycle\n",
    "import torch\n",
    "import numpy as np\n",
    "import matplotlib.pyplot as plt\n",
    "from sklearn.metrics import classification_report"
   ]
  },
  {
   "cell_type": "code",
   "execution_count": 2,
   "metadata": {},
   "outputs": [],
   "source": [
    "# data gen\n",
    "X = np.random.normal(0, 1, (1_000, 2))"
   ]
  },
  {
   "cell_type": "code",
   "execution_count": 3,
   "metadata": {},
   "outputs": [],
   "source": [
    "# define our seperator (y = mx + b)\n",
    "m, b = 2, -1.2"
   ]
  },
  {
   "cell_type": "code",
   "execution_count": 4,
   "metadata": {},
   "outputs": [],
   "source": [
    "# do target classes\n",
    "class_bool = X[:, 1] < m*X[:, 0] + b + np.random.normal(0, 0.5, (1000,))\n",
    "y = -1.*class_bool + 1.*np.logical_not(class_bool)"
   ]
  },
  {
   "cell_type": "code",
   "execution_count": 5,
   "metadata": {},
   "outputs": [
    {
     "data": {
      "text/plain": [
       "[<matplotlib.lines.Line2D at 0x12fb718e0>]"
      ]
     },
     "execution_count": 5,
     "metadata": {},
     "output_type": "execute_result"
    },
    {
     "data": {
      "image/png": "[encoded data removed]",
      "text/plain": [
       "<Figure size 432x288 with 1 Axes>"
      ]
     },
     "metadata": {
      "needs_background": "light"
     },
     "output_type": "display_data"
    }
   ],
   "source": [
    "# visualize data\n",
    "plt.scatter(X[class_bool, 0], X[class_bool, 1])\n",
    "plt.scatter(X[np.logical_not(class_bool), 0], X[np.logical_not(class_bool), 1])\n",
    "plt.plot(np.arange(-3, 3, 0.1), np.arange(-3, 3, 0.1)*m + b, linewidth=2, color=\"red\")"
   ]
  },
  {
   "cell_type": "code",
   "execution_count": 6,
   "metadata": {},
   "outputs": [],
   "source": [
    "class LinearSVM(torch.nn.Module):\n",
    "    def __init__(self):\n",
    "        super().__init__()\n",
    "        self.m = torch.nn.Parameter(torch.from_numpy(np.array([0.])), requires_grad=True)\n",
    "        self.b = torch.nn.Parameter(torch.from_numpy(np.array([0.])), requires_grad=True)\n",
    "    \n",
    "    def forward_train(self, X):\n",
    "        probs = torch.softmax(\n",
    "            torch.stack([X[:, 0] * self.m + self.b, X[:, 1]], dim=1),\n",
    "            dim=1\n",
    "        )\n",
    "        return -1.*probs[:,0] + 1.*probs[:,1]\n",
    "\n",
    "    def forward_test(self, X):\n",
    "        if isinstance(X, np.ndarray):\n",
    "            X = torch.from_numpy(X)\n",
    "        class_bool = X[:, 1] < X[:, 0] * self.m + self.b\n",
    "        return -1.*class_bool + 1.*torch.logical_not(class_bool)\n",
    "    \n",
    "    def __repr__(self):\n",
    "        return f\"{self.m}, {self.b}\"\n"
   ]
  },
  {
   "cell_type": "code",
   "execution_count": 7,
   "metadata": {},
   "outputs": [],
   "source": [
    "class NumpyRepeatDataset(torch.utils.data.IterableDataset):\n",
    "    def __init__(self, X, y):\n",
    "        super().__init__()\n",
    "        self.X = X\n",
    "        self.y = y\n",
    "    \n",
    "    def __iter__(self):\n",
    "        self._iter_X = iter(cycle(self.X))\n",
    "        self._iter_y = iter(cycle(self.y))\n",
    "        return self\n",
    "\n",
    "    def __next__(self):\n",
    "        return next(self._iter_X), next(self._iter_y)"
   ]
  },
  {
   "cell_type": "code",
   "execution_count": 8,
   "metadata": {},
   "outputs": [],
   "source": [
    "svm = LinearSVM()\n",
    "optim = torch.optim.SGD(svm.parameters(), lr=0.1)\n",
    "loss_fn = torch.nn.SoftMarginLoss()"
   ]
  },
  {
   "cell_type": "code",
   "execution_count": 9,
   "metadata": {},
   "outputs": [],
   "source": [
    "train_dataset = NumpyRepeatDataset(X, y)\n",
    "train_dataloader = torch.utils.data.DataLoader(\n",
    "    train_dataset,\n",
    "    batch_size = 20,\n",
    ")\n",
    "iter_train_dataloader = iter(train_dataloader)"
   ]
  },
  {
   "cell_type": "code",
   "execution_count": 10,
   "metadata": {},
   "outputs": [
    {
     "name": "stdout",
     "output_type": "stream",
     "text": [
      "loss @ 100th step: 0.5103311465154372\n",
      "loss @ 200th step: 0.4747443935254365\n",
      "loss @ 300th step: 0.4592316888784807\n",
      "loss @ 400th step: 0.45088158654597327\n",
      "loss @ 500th step: 0.4458161356800659\n",
      "loss @ 600th step: 0.44251081862791086\n",
      "loss @ 700th step: 0.44024942897845065\n",
      "loss @ 800th step: 0.4386522843768912\n",
      "loss @ 900th step: 0.4374999342012722\n",
      "loss @ 1000th step: 0.43665709379792633\n"
     ]
    }
   ],
   "source": [
    "for i in range(1_000):\n",
    "    optim.zero_grad()\n",
    "    t_X, t_y = next(iter_train_dataloader)\n",
    "    output = svm.forward_train(t_X)\n",
    "    loss = loss_fn(output, t_y)\n",
    "    if (i+1) % 100 == 0:\n",
    "        print(f\"loss @ {i+1}th step: {loss}\")\n",
    "    loss.backward()\n",
    "    optim.step()"
   ]
  },
  {
   "cell_type": "code",
   "execution_count": 11,
   "metadata": {},
   "outputs": [
    {
     "data": {
      "text/plain": [
       "Parameter containing:\n",
       "tensor([2.9975], dtype=torch.float64, requires_grad=True), Parameter containing:\n",
       "tensor([-1.8330], dtype=torch.float64, requires_grad=True)"
      ]
     },
     "execution_count": 11,
     "metadata": {},
     "output_type": "execute_result"
    }
   ],
   "source": [
    "svm"
   ]
  },
  {
   "cell_type": "code",
   "execution_count": 12,
   "metadata": {},
   "outputs": [
    {
     "name": "stdout",
     "output_type": "stream",
     "text": [
      "              precision    recall  f1-score   support\n",
      "\n",
      "        -1.0       0.91      0.82      0.86       307\n",
      "         1.0       0.93      0.96      0.94       693\n",
      "\n",
      "    accuracy                           0.92      1000\n",
      "   macro avg       0.92      0.89      0.90      1000\n",
      "weighted avg       0.92      0.92      0.92      1000\n",
      "\n"
     ]
    }
   ],
   "source": [
    "print(classification_report(\n",
    "    y,\n",
    "    svm.forward_test(X).numpy())\n",
    ")"
   ]
  },
  {
   "cell_type": "code",
   "execution_count": 13,
   "metadata": {},
   "outputs": [
    {
     "data": {
      "text/plain": [
       "[<matplotlib.lines.Line2D at 0x12fdf10d0>]"
      ]
     },
     "execution_count": 13,
     "metadata": {},
     "output_type": "execute_result"
    },
    {
     "data": {
      "image/png": "[encoded data removed]",
      "text/plain": [
       "<Figure size 432x288 with 1 Axes>"
      ]
     },
     "metadata": {
      "needs_background": "light"
     },
     "output_type": "display_data"
    }
   ],
   "source": [
    "# visualize data\n",
    "plt.scatter(X[class_bool, 0], X[class_bool, 1])\n",
    "plt.scatter(X[np.logical_not(class_bool), 0], X[np.logical_not(class_bool), 1])\n",
    "plt.plot(\n",
    "    np.arange(-3, 3, 0.1), \n",
    "    np.arange(-3, 3, 0.1)*svm.m.detach().numpy() + svm.b.detach().numpy(), \n",
    "    linewidth=2, color=\"red\"\n",
    ")"
   ]
  },
  {
   "cell_type": "code",
   "execution_count": null,
   "metadata": {},
   "outputs": [],
   "source": []
  }
 ],
 "metadata": {
  "interpreter": {
   "hash": "610d70144db798de2d4bb5dcee849625d95221a0a4889cdbe27ccad9556d3744"
  },
  "kernelspec": {
   "display_name": "Python 3.9.7 ('.venv': venv)",
   "language": "python",
   "name": "python3"
  },
  "language_info": {
   "codemirror_mode": {
    "name": "ipython",
    "version": 3
   },
   "file_extension": ".py",
   "mimetype": "text/x-python",
   "name": "python",
   "nbconvert_exporter": "python",
   "pygments_lexer": "ipython3",
   "version": "3.9.7"
  },
  "orig_nbformat": 4
 },
 "nbformat": 4,
 "nbformat_minor": 2
}
