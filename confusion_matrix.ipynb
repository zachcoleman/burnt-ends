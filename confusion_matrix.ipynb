{
 "cells": [
  {
   "cell_type": "code",
   "execution_count": null,
   "metadata": {},
   "outputs": [],
   "source": [
    "import torch\n",
    "import numpy as np\n",
    "from sklearn.metrics import confusion_matrix"
   ]
  },
  {
   "cell_type": "code",
   "execution_count": null,
   "metadata": {},
   "outputs": [],
   "source": [
    "class ConfusionMatrix(torch.nn.Module):\n",
    "    def __init__(self):\n",
    "        super().__init__()\n",
    "\n",
    "    def calculate_single_channel(self, y_true, y_pred):\n",
    "        y_true_idx, y_pred_idx = torch.meshgrid(\n",
    "            y_true.unique(sorted=True), \n",
    "            y_pred.unique(sorted=True), \n",
    "            indexing=\"ij\"\n",
    "        )\n",
    "        conf_mat = torch.zeros_like(y_true_idx)\n",
    "        for i in range(y_true_idx.shape[0]):\n",
    "            for j in range(y_true_idx.shape[1]):\n",
    "                conf_mat[i, j] = torch.sum(\n",
    "                    torch.logical_and(y_true == y_true_idx[i, j], y_pred == y_pred_idx[i, j])\n",
    "                )\n",
    "        return conf_mat\n",
    "\n",
    "    def forward(self, y_true, y_pred):\n",
    "        if y_true.dim() > 2:\n",
    "            return torch.stack([\n",
    "                self.calculate_single_channel(t, p) for t, p in zip(y_true, y_pred) \n",
    "            ])\n",
    "        else:\n",
    "            return self.calculate_single_channel(y_true, y_pred)"
   ]
  },
  {
   "cell_type": "code",
   "execution_count": null,
   "metadata": {},
   "outputs": [],
   "source": [
    "y_true = torch.randint(0, 2, (10, 512, 512))\n",
    "y_pred = torch.randint(0, 2, (10, 512, 512))"
   ]
  },
  {
   "cell_type": "code",
   "execution_count": null,
   "metadata": {},
   "outputs": [],
   "source": [
    "y_true_np = y_true.numpy()\n",
    "y_pred_np = y_pred.numpy()"
   ]
  },
  {
   "cell_type": "markdown",
   "metadata": {},
   "source": [
    "### Time sklearn"
   ]
  },
  {
   "cell_type": "code",
   "execution_count": null,
   "metadata": {},
   "outputs": [],
   "source": [
    "%%timeit\n",
    "_ = np.stack([\n",
    "    confusion_matrix(yt.flatten(), yp.flatten()) for yt, yp in zip(y_true_np, y_pred_np)\n",
    "])"
   ]
  },
  {
   "cell_type": "code",
   "execution_count": null,
   "metadata": {},
   "outputs": [],
   "source": [
    "cm = ConfusionMatrix()"
   ]
  },
  {
   "cell_type": "markdown",
   "metadata": {},
   "source": [
    "### Time torch cpu"
   ]
  },
  {
   "cell_type": "code",
   "execution_count": null,
   "metadata": {},
   "outputs": [],
   "source": [
    "%%timeit\n",
    "_ = cm(y_true, y_pred)"
   ]
  },
  {
   "cell_type": "code",
   "execution_count": null,
   "metadata": {},
   "outputs": [],
   "source": [
    "y_true = y_true.to(\"cuda\")\n",
    "y_pred = y_pred.to(\"cuda\")"
   ]
  },
  {
   "cell_type": "markdown",
   "metadata": {},
   "source": [
    "### Time torch gpu"
   ]
  },
  {
   "cell_type": "code",
   "execution_count": null,
   "metadata": {},
   "outputs": [],
   "source": [
    "%%timeit\n",
    "_ = cm(y_true, y_pred)"
   ]
  },
  {
   "cell_type": "code",
   "execution_count": null,
   "metadata": {},
   "outputs": [],
   "source": [
    "np.allclose(\n",
    "    np.stack([confusion_matrix(yt.flatten(), yp.flatten()) for yt, yp in zip(y_true_np, y_pred_np)]),\n",
    "    cm(y_true, y_pred).cpu().numpy()\n",
    ")"
   ]
  }
 ],
 "metadata": {
  "interpreter": {
   "hash": "c129890e52e304bd38cff855c6db65cc66a75d0ba4de0e743d2e78c185c3f47f"
  },
  "kernelspec": {
   "display_name": "Python 3.8.12 64-bit ('3.8.12')",
   "language": "python",
   "name": "python3"
  },
  "language_info": {
   "codemirror_mode": {
    "name": "ipython",
    "version": 3
   },
   "file_extension": ".py",
   "mimetype": "text/x-python",
   "name": "python",
   "nbconvert_exporter": "python",
   "pygments_lexer": "ipython3",
   "version": "3.9.7"
  },
  "orig_nbformat": 4
 },
 "nbformat": 4,
 "nbformat_minor": 2
}
