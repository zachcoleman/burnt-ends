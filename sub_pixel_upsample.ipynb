{
 "cells": [
  {
   "cell_type": "code",
   "execution_count": 1,
   "metadata": {},
   "outputs": [],
   "source": [
    "import torch\n",
    "import numpy as np"
   ]
  },
  {
   "cell_type": "code",
   "execution_count": 2,
   "metadata": {},
   "outputs": [],
   "source": [
    "class SubPixelConv(torch.nn.Module):\n",
    "    def __init__(self, in_channels, r):\n",
    "        super().__init__()\n",
    "        chans_per_subsection  = in_channels // r**2\n",
    "        ch_bounds = list(range(0, in_channels+1, chans_per_subsection))\n",
    "        self.channel_divisions = list(zip(ch_bounds[:-1], ch_bounds[1:]))\n",
    "\n",
    "    def forward_feature_map(self, inputs):\n",
    "        rows = []\n",
    "        for sub_divs in self.divisions:\n",
    "            rows.append(torch.cat(\n",
    "                [inputs[div[0]:div[1], ...] for div in sub_divs],\n",
    "                dim=1,\n",
    "            ))\n",
    "        return torch.cat(rows, dim=2)\n",
    "\n",
    "    def forward(self, inputs):\n",
    "        if inputs.ndim == 3:\n",
    "            return self.forward_feature_map(inputs)\n",
    "        elif inputs.ndim == 4:\n",
    "            return torch.stack([self.forward_feature_map(input) for input in inputs]) "
   ]
  },
  {
   "cell_type": "code",
   "execution_count": 3,
   "metadata": {},
   "outputs": [],
   "source": [
    "r = 3\n",
    "in_chans = 18"
   ]
  },
  {
   "cell_type": "code",
   "execution_count": 4,
   "metadata": {},
   "outputs": [],
   "source": [
    "chans_per_subsection  = in_chans // r**2\n",
    "ch_bounds = list(range(0, in_chans+1, chans_per_subsection))\n",
    "channel_divisions = list(zip(ch_bounds[:-1], ch_bounds[1:]))\n",
    "\n",
    "filters = []\n",
    "for i in range(r**2):\n",
    "    tmp = np.zeros((1, 1, r, r), np.float32)\n",
    "    tmp[..., i // r, i % r] = 1.\n",
    "    filters.append(tmp)\n",
    "\n",
    "expanding_convs = []\n",
    "for f in filters:\n",
    "    tmp = torch.nn.ConvTranspose2d(1, 1, r, r, bias=False)\n",
    "    tmp.weight = torch.nn.Parameter(\n",
    "        torch.from_numpy(f),\n",
    "        requires_grad=False\n",
    "    )\n",
    "    expanding_convs.append(tmp)"
   ]
  },
  {
   "cell_type": "code",
   "execution_count": 5,
   "metadata": {},
   "outputs": [],
   "source": [
    "inputs = torch.stack([\n",
    "    torch.from_numpy(np.array([[1, 0], [0, 0]], np.float32)*(i+1))\n",
    "    for i in range(in_chans)\n",
    "]).unsqueeze(0)"
   ]
  },
  {
   "cell_type": "code",
   "execution_count": 6,
   "metadata": {},
   "outputs": [],
   "source": [
    "subset = []\n",
    "for exp, div in zip(expanding_convs, channel_divisions):\n",
    "    subset.append(\n",
    "        torch.cat([exp(inputs[:,[c],...]) for c in range(div[0], div[1])], dim=1)\n",
    "    )"
   ]
  },
  {
   "cell_type": "code",
   "execution_count": 7,
   "metadata": {},
   "outputs": [
    {
     "data": {
      "text/plain": [
       "tensor([[[[ 1.,  3.,  5.,  0.,  0.,  0.],\n",
       "          [ 7.,  9., 11.,  0.,  0.,  0.],\n",
       "          [13., 15., 17.,  0.,  0.,  0.],\n",
       "          [ 0.,  0.,  0.,  0.,  0.,  0.],\n",
       "          [ 0.,  0.,  0.,  0.,  0.,  0.],\n",
       "          [ 0.,  0.,  0.,  0.,  0.,  0.]],\n",
       "\n",
       "         [[ 2.,  4.,  6.,  0.,  0.,  0.],\n",
       "          [ 8., 10., 12.,  0.,  0.,  0.],\n",
       "          [14., 16., 18.,  0.,  0.,  0.],\n",
       "          [ 0.,  0.,  0.,  0.,  0.,  0.],\n",
       "          [ 0.,  0.,  0.,  0.,  0.,  0.],\n",
       "          [ 0.,  0.,  0.,  0.,  0.,  0.]]]])"
      ]
     },
     "execution_count": 7,
     "metadata": {},
     "output_type": "execute_result"
    }
   ],
   "source": [
    "torch.stack([s for s in subset]).sum(dim=0)"
   ]
  }
 ],
 "metadata": {
  "interpreter": {
   "hash": "5900bdd12e2be0eee0f3bf4a7137ff1e11a0f4f5605e7dfa66926373efa45bc2"
  },
  "kernelspec": {
   "display_name": "Python 3.9.7 64-bit ('torch-testing-y2vIS3BD-py3.9': poetry)",
   "language": "python",
   "name": "python3"
  },
  "language_info": {
   "codemirror_mode": {
    "name": "ipython",
    "version": 3
   },
   "file_extension": ".py",
   "mimetype": "text/x-python",
   "name": "python",
   "nbconvert_exporter": "python",
   "pygments_lexer": "ipython3",
   "version": "3.9.7"
  },
  "orig_nbformat": 4
 },
 "nbformat": 4,
 "nbformat_minor": 2
}
