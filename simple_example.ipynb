{
 "cells": [
  {
   "cell_type": "code",
   "execution_count": null,
   "metadata": {},
   "outputs": [],
   "source": [
    "import torch\n",
    "import numpy as np\n",
    "import matplotlib.pyplot as plt"
   ]
  },
  {
   "cell_type": "code",
   "execution_count": null,
   "metadata": {},
   "outputs": [],
   "source": [
    "class MyDataset(torch.utils.data.IterableDataset):\n",
    "    def __iter__(self):\n",
    "        return self\n",
    "    def __next__(self):\n",
    "        X_orig = np.random.randint(0, 100) % 100\n",
    "        X = (X_orig - 50.0) / (100/np.sqrt(12))\n",
    "        if X_orig < 50:\n",
    "            y = X * np.random.randint(1, 3) + np.random.uniform(0, 2)\n",
    "        else:\n",
    "            y = np.random.uniform(0, 2)\n",
    "        return np.array([X], dtype=np.float32), np.array([y], dtype=np.float32)"
   ]
  },
  {
   "cell_type": "code",
   "execution_count": null,
   "metadata": {},
   "outputs": [],
   "source": [
    "class TwoLayerModel(torch.nn.Module):\n",
    "    def  __init__(self, D_IN, D_OUT, H):\n",
    "\n",
    "        super(TwoLayerModel, self).__init__()\n",
    "        self._l1 = torch.nn.Linear(D_IN, H)\n",
    "        self._l2 = torch.nn.Linear(H, H)\n",
    "        self._l3 = torch.nn.Linear(H, D_OUT)\n",
    "\n",
    "    def forward(self, x):\n",
    "        x = self._l1(x).clamp(min=0)\n",
    "        x = self._l2(x).clamp(min=0)\n",
    "        x = self._l3(x)\n",
    "        return x"
   ]
  },
  {
   "cell_type": "code",
   "execution_count": null,
   "metadata": {},
   "outputs": [],
   "source": [
    "train_dataset = MyDataset()\n",
    "train_dataloader = torch.utils.data.DataLoader(\n",
    "    train_dataset,\n",
    "    batch_size = 8,\n",
    "    num_workers = 2,\n",
    ")"
   ]
  },
  {
   "cell_type": "code",
   "execution_count": null,
   "metadata": {},
   "outputs": [],
   "source": [
    "model = TwoLayerModel(\n",
    "    D_IN = 1,\n",
    "    D_OUT = 1,\n",
    "    H = 4,\n",
    ")"
   ]
  },
  {
   "cell_type": "code",
   "execution_count": null,
   "metadata": {},
   "outputs": [],
   "source": [
    "loss_fn = torch.nn.MSELoss(reduction=\"mean\")"
   ]
  },
  {
   "cell_type": "code",
   "execution_count": null,
   "metadata": {},
   "outputs": [],
   "source": [
    "optim = torch.optim.Adam(model.parameters())"
   ]
  },
  {
   "cell_type": "code",
   "execution_count": null,
   "metadata": {},
   "outputs": [],
   "source": [
    "iter_train_dataloader = iter(train_dataloader)\n",
    "\n",
    "for i in range(10_000):\n",
    "    optim.zero_grad()\n",
    "    X, y = next(iter_train_dataloader)\n",
    "    output = model(X)\n",
    "    loss = loss_fn(output, y)\n",
    "    if (i+1) % 1_000 == 0:\n",
    "        print(f\"loss @ {i+1}th step: {loss}\")\n",
    "    loss.backward()\n",
    "    optim.step()"
   ]
  },
  {
   "cell_type": "code",
   "execution_count": null,
   "metadata": {},
   "outputs": [],
   "source": [
    "Xs = np.arange(0, 100, 1)\n",
    "y = []\n",
    "for x in Xs:\n",
    "    with torch.no_grad():\n",
    "        y.append(model(torch.Tensor([x])))"
   ]
  },
  {
   "cell_type": "code",
   "execution_count": null,
   "metadata": {},
   "outputs": [],
   "source": [
    "X, y, y_pred = [], [], []\n",
    "iter_dataset = iter(train_dataset)\n",
    "for _ in range(100):\n",
    "    _X, _y = next(iter_dataset)\n",
    "    X.append(_X)\n",
    "    y.append(_y)\n",
    "    with torch.no_grad():\n",
    "        y_pred.append(model(torch.Tensor(_X)))\n",
    "\n",
    "# sort results for visualizing\n",
    "X, y, y_pred = zip(*sorted(zip(X, y, y_pred)))"
   ]
  },
  {
   "cell_type": "code",
   "execution_count": null,
   "metadata": {},
   "outputs": [],
   "source": [
    "fig, ax = plt.subplots(1, 1)\n",
    "ax.set_title(\"Predicted vs Actual\")\n",
    "ax.set_xlabel(\"X\")\n",
    "ax.set_ylabel(\"y\")\n",
    "ax.scatter(np.stack(X), np.stack(y), color=\"tab:blue\")\n",
    "ax.plot(np.stack(X), np.stack(y_pred), linewidth=3, color=\"tab:orange\")\n",
    "plt.show()"
   ]
  },
  {
   "cell_type": "code",
   "execution_count": null,
   "metadata": {},
   "outputs": [],
   "source": []
  }
 ],
 "metadata": {
  "interpreter": {
   "hash": "5900bdd12e2be0eee0f3bf4a7137ff1e11a0f4f5605e7dfa66926373efa45bc2"
  },
  "kernelspec": {
   "display_name": "Python 3.9.7 64-bit ('torch-testing-y2vIS3BD-py3.9': poetry)",
   "name": "python3"
  },
  "language_info": {
   "codemirror_mode": {
    "name": "ipython",
    "version": 3
   },
   "file_extension": ".py",
   "mimetype": "text/x-python",
   "name": "python",
   "nbconvert_exporter": "python",
   "pygments_lexer": "ipython3",
   "version": "3.9.7"
  },
  "orig_nbformat": 4
 },
 "nbformat": 4,
 "nbformat_minor": 2
}
